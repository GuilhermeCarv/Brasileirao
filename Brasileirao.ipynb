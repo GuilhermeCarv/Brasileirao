{
  "cells": [
    {
      "cell_type": "markdown",
      "metadata": {
        "id": "view-in-github",
        "colab_type": "text"
      },
      "source": [
        "<a href=\"https://colab.research.google.com/github/GuilhermeCarv/Brasileirao/blob/main/Brasileirao.ipynb\" target=\"_parent\"><img src=\"https://colab.research.google.com/assets/colab-badge.svg\" alt=\"Open In Colab\"/></a>"
      ]
    },
    {
      "cell_type": "code",
      "execution_count": 1,
      "metadata": {
        "colab": {
          "base_uri": "https://localhost:8080/"
        },
        "id": "DsDB9IWZg1tS",
        "outputId": "a2cc370c-a988-4cc5-84ee-18501d4abcfd"
      },
      "outputs": [
        {
          "output_type": "stream",
          "name": "stdout",
          "text": [
            "Collecting pywaffle\n",
            "  Downloading pywaffle-0.6.4-py2.py3-none-any.whl (565 kB)\n",
            "\u001b[?25l\r\u001b[K     |▋                               | 10 kB 23.3 MB/s eta 0:00:01\r\u001b[K     |█▏                              | 20 kB 30.4 MB/s eta 0:00:01\r\u001b[K     |█▊                              | 30 kB 15.8 MB/s eta 0:00:01\r\u001b[K     |██▎                             | 40 kB 7.4 MB/s eta 0:00:01\r\u001b[K     |███                             | 51 kB 7.7 MB/s eta 0:00:01\r\u001b[K     |███▌                            | 61 kB 9.0 MB/s eta 0:00:01\r\u001b[K     |████                            | 71 kB 9.7 MB/s eta 0:00:01\r\u001b[K     |████▋                           | 81 kB 8.9 MB/s eta 0:00:01\r\u001b[K     |█████▏                          | 92 kB 9.8 MB/s eta 0:00:01\r\u001b[K     |█████▉                          | 102 kB 8.4 MB/s eta 0:00:01\r\u001b[K     |██████▍                         | 112 kB 8.4 MB/s eta 0:00:01\r\u001b[K     |███████                         | 122 kB 8.4 MB/s eta 0:00:01\r\u001b[K     |███████▌                        | 133 kB 8.4 MB/s eta 0:00:01\r\u001b[K     |████████                        | 143 kB 8.4 MB/s eta 0:00:01\r\u001b[K     |████████▊                       | 153 kB 8.4 MB/s eta 0:00:01\r\u001b[K     |█████████▎                      | 163 kB 8.4 MB/s eta 0:00:01\r\u001b[K     |█████████▉                      | 174 kB 8.4 MB/s eta 0:00:01\r\u001b[K     |██████████▍                     | 184 kB 8.4 MB/s eta 0:00:01\r\u001b[K     |███████████                     | 194 kB 8.4 MB/s eta 0:00:01\r\u001b[K     |███████████▋                    | 204 kB 8.4 MB/s eta 0:00:01\r\u001b[K     |████████████▏                   | 215 kB 8.4 MB/s eta 0:00:01\r\u001b[K     |████████████▊                   | 225 kB 8.4 MB/s eta 0:00:01\r\u001b[K     |█████████████▎                  | 235 kB 8.4 MB/s eta 0:00:01\r\u001b[K     |██████████████                  | 245 kB 8.4 MB/s eta 0:00:01\r\u001b[K     |██████████████▌                 | 256 kB 8.4 MB/s eta 0:00:01\r\u001b[K     |███████████████                 | 266 kB 8.4 MB/s eta 0:00:01\r\u001b[K     |███████████████▋                | 276 kB 8.4 MB/s eta 0:00:01\r\u001b[K     |████████████████▏               | 286 kB 8.4 MB/s eta 0:00:01\r\u001b[K     |████████████████▉               | 296 kB 8.4 MB/s eta 0:00:01\r\u001b[K     |█████████████████▍              | 307 kB 8.4 MB/s eta 0:00:01\r\u001b[K     |██████████████████              | 317 kB 8.4 MB/s eta 0:00:01\r\u001b[K     |██████████████████▌             | 327 kB 8.4 MB/s eta 0:00:01\r\u001b[K     |███████████████████             | 337 kB 8.4 MB/s eta 0:00:01\r\u001b[K     |███████████████████▊            | 348 kB 8.4 MB/s eta 0:00:01\r\u001b[K     |████████████████████▎           | 358 kB 8.4 MB/s eta 0:00:01\r\u001b[K     |████████████████████▉           | 368 kB 8.4 MB/s eta 0:00:01\r\u001b[K     |█████████████████████▍          | 378 kB 8.4 MB/s eta 0:00:01\r\u001b[K     |██████████████████████          | 389 kB 8.4 MB/s eta 0:00:01\r\u001b[K     |██████████████████████▋         | 399 kB 8.4 MB/s eta 0:00:01\r\u001b[K     |███████████████████████▏        | 409 kB 8.4 MB/s eta 0:00:01\r\u001b[K     |███████████████████████▊        | 419 kB 8.4 MB/s eta 0:00:01\r\u001b[K     |████████████████████████▎       | 430 kB 8.4 MB/s eta 0:00:01\r\u001b[K     |█████████████████████████       | 440 kB 8.4 MB/s eta 0:00:01\r\u001b[K     |█████████████████████████▌      | 450 kB 8.4 MB/s eta 0:00:01\r\u001b[K     |██████████████████████████      | 460 kB 8.4 MB/s eta 0:00:01\r\u001b[K     |██████████████████████████▋     | 471 kB 8.4 MB/s eta 0:00:01\r\u001b[K     |███████████████████████████▏    | 481 kB 8.4 MB/s eta 0:00:01\r\u001b[K     |███████████████████████████▉    | 491 kB 8.4 MB/s eta 0:00:01\r\u001b[K     |████████████████████████████▍   | 501 kB 8.4 MB/s eta 0:00:01\r\u001b[K     |█████████████████████████████   | 512 kB 8.4 MB/s eta 0:00:01\r\u001b[K     |█████████████████████████████▌  | 522 kB 8.4 MB/s eta 0:00:01\r\u001b[K     |██████████████████████████████▏ | 532 kB 8.4 MB/s eta 0:00:01\r\u001b[K     |██████████████████████████████▊ | 542 kB 8.4 MB/s eta 0:00:01\r\u001b[K     |███████████████████████████████▎| 552 kB 8.4 MB/s eta 0:00:01\r\u001b[K     |███████████████████████████████▉| 563 kB 8.4 MB/s eta 0:00:01\r\u001b[K     |████████████████████████████████| 565 kB 8.4 MB/s \n",
            "\u001b[?25hRequirement already satisfied: matplotlib in /usr/local/lib/python3.7/dist-packages (from pywaffle) (3.2.2)\n",
            "Requirement already satisfied: cycler>=0.10 in /usr/local/lib/python3.7/dist-packages (from matplotlib->pywaffle) (0.11.0)\n",
            "Requirement already satisfied: python-dateutil>=2.1 in /usr/local/lib/python3.7/dist-packages (from matplotlib->pywaffle) (2.8.2)\n",
            "Requirement already satisfied: pyparsing!=2.0.4,!=2.1.2,!=2.1.6,>=2.0.1 in /usr/local/lib/python3.7/dist-packages (from matplotlib->pywaffle) (3.0.7)\n",
            "Requirement already satisfied: kiwisolver>=1.0.1 in /usr/local/lib/python3.7/dist-packages (from matplotlib->pywaffle) (1.4.0)\n",
            "Requirement already satisfied: numpy>=1.11 in /usr/local/lib/python3.7/dist-packages (from matplotlib->pywaffle) (1.21.5)\n",
            "Requirement already satisfied: typing-extensions in /usr/local/lib/python3.7/dist-packages (from kiwisolver>=1.0.1->matplotlib->pywaffle) (3.10.0.2)\n",
            "Requirement already satisfied: six>=1.5 in /usr/local/lib/python3.7/dist-packages (from python-dateutil>=2.1->matplotlib->pywaffle) (1.15.0)\n",
            "Installing collected packages: pywaffle\n",
            "Successfully installed pywaffle-0.6.4\n"
          ]
        }
      ],
      "source": [
        "import pandas as pd\n",
        "import plotly.express as px\n",
        "import matplotlib.pyplot as plt\n",
        "%matplotlib inline\n",
        "import plotly.graph_objects as go\n",
        "!pip install pywaffle\n",
        "from pywaffle import Waffle\n"
      ]
    },
    {
      "cell_type": "code",
      "execution_count": 2,
      "metadata": {
        "id": "wGc8nG22iiW4"
      },
      "outputs": [],
      "source": [
        "df = pd.read_csv(\"https://raw.githubusercontent.com/GuilhermeCarv/Brasileirao/main/brasileirao_serie_a.csv\")"
      ]
    },
    {
      "cell_type": "code",
      "execution_count": 3,
      "metadata": {
        "colab": {
          "base_uri": "https://localhost:8080/",
          "height": 473
        },
        "id": "W7x_uCqDimyu",
        "outputId": "974e65b1-ddd5-434f-c093-531970e54c6e"
      },
      "outputs": [
        {
          "output_type": "execute_result",
          "data": {
            "text/plain": [
              "   ano_campeonato        data horario  rodada  \\\n",
              "0            2003  2003-03-29   08:00       1   \n",
              "1            2003  2003-03-29   08:00       1   \n",
              "2            2003  2003-03-30   09:00       1   \n",
              "3            2003  2003-03-30   09:00       1   \n",
              "4            2003  2003-03-30   09:00       1   \n",
              "\n",
              "                              estadio arbitro  publico  publico_max  \\\n",
              "0  Estádio Brinco de Ouro da Princesa     NaN      NaN          NaN   \n",
              "1                    Arena da Baixada     NaN      NaN          NaN   \n",
              "2      Estádio Jornalista Mário Filho     NaN      NaN          NaN   \n",
              "3           Estádio de Hailé Pinheiro     NaN      NaN          NaN   \n",
              "4                   Estádio Beira-Rio     NaN      NaN          NaN   \n",
              "\n",
              "        time_man       time_vis  ... chutes_bola_parada_man  \\\n",
              "0        Guarani  Vasco da Gama  ...                    NaN   \n",
              "1    Atlético-PR         Grêmio  ...                    NaN   \n",
              "2       Flamengo    Coritiba FC  ...                    NaN   \n",
              "3       Goiás EC    Paysandu SC  ...                    NaN   \n",
              "4  Internacional    Ponte Preta  ...                    NaN   \n",
              "\n",
              "  chutes_bola_parada_vis  defesas_man  defesas_vis  impedimentos_man  \\\n",
              "0                    NaN          NaN          NaN               NaN   \n",
              "1                    NaN          NaN          NaN               NaN   \n",
              "2                    NaN          NaN          NaN               NaN   \n",
              "3                    NaN          NaN          NaN               NaN   \n",
              "4                    NaN          NaN          NaN               NaN   \n",
              "\n",
              "   impedimentos_vis  chutes_man  chutes_vis  chutes_fora_man  chutes_fora_vis  \n",
              "0               NaN         NaN         NaN              NaN              NaN  \n",
              "1               NaN         NaN         NaN              NaN              NaN  \n",
              "2               NaN         NaN         NaN              NaN              NaN  \n",
              "3               NaN         NaN         NaN              NaN              NaN  \n",
              "4               NaN         NaN         NaN              NaN              NaN  \n",
              "\n",
              "[5 rows x 36 columns]"
            ],
            "text/html": [
              "\n",
              "  <div id=\"df-9bb84520-96c1-4ac0-a34b-bbb116c15f76\">\n",
              "    <div class=\"colab-df-container\">\n",
              "      <div>\n",
              "<style scoped>\n",
              "    .dataframe tbody tr th:only-of-type {\n",
              "        vertical-align: middle;\n",
              "    }\n",
              "\n",
              "    .dataframe tbody tr th {\n",
              "        vertical-align: top;\n",
              "    }\n",
              "\n",
              "    .dataframe thead th {\n",
              "        text-align: right;\n",
              "    }\n",
              "</style>\n",
              "<table border=\"1\" class=\"dataframe\">\n",
              "  <thead>\n",
              "    <tr style=\"text-align: right;\">\n",
              "      <th></th>\n",
              "      <th>ano_campeonato</th>\n",
              "      <th>data</th>\n",
              "      <th>horario</th>\n",
              "      <th>rodada</th>\n",
              "      <th>estadio</th>\n",
              "      <th>arbitro</th>\n",
              "      <th>publico</th>\n",
              "      <th>publico_max</th>\n",
              "      <th>time_man</th>\n",
              "      <th>time_vis</th>\n",
              "      <th>...</th>\n",
              "      <th>chutes_bola_parada_man</th>\n",
              "      <th>chutes_bola_parada_vis</th>\n",
              "      <th>defesas_man</th>\n",
              "      <th>defesas_vis</th>\n",
              "      <th>impedimentos_man</th>\n",
              "      <th>impedimentos_vis</th>\n",
              "      <th>chutes_man</th>\n",
              "      <th>chutes_vis</th>\n",
              "      <th>chutes_fora_man</th>\n",
              "      <th>chutes_fora_vis</th>\n",
              "    </tr>\n",
              "  </thead>\n",
              "  <tbody>\n",
              "    <tr>\n",
              "      <th>0</th>\n",
              "      <td>2003</td>\n",
              "      <td>2003-03-29</td>\n",
              "      <td>08:00</td>\n",
              "      <td>1</td>\n",
              "      <td>Estádio Brinco de Ouro da Princesa</td>\n",
              "      <td>NaN</td>\n",
              "      <td>NaN</td>\n",
              "      <td>NaN</td>\n",
              "      <td>Guarani</td>\n",
              "      <td>Vasco da Gama</td>\n",
              "      <td>...</td>\n",
              "      <td>NaN</td>\n",
              "      <td>NaN</td>\n",
              "      <td>NaN</td>\n",
              "      <td>NaN</td>\n",
              "      <td>NaN</td>\n",
              "      <td>NaN</td>\n",
              "      <td>NaN</td>\n",
              "      <td>NaN</td>\n",
              "      <td>NaN</td>\n",
              "      <td>NaN</td>\n",
              "    </tr>\n",
              "    <tr>\n",
              "      <th>1</th>\n",
              "      <td>2003</td>\n",
              "      <td>2003-03-29</td>\n",
              "      <td>08:00</td>\n",
              "      <td>1</td>\n",
              "      <td>Arena da Baixada</td>\n",
              "      <td>NaN</td>\n",
              "      <td>NaN</td>\n",
              "      <td>NaN</td>\n",
              "      <td>Atlético-PR</td>\n",
              "      <td>Grêmio</td>\n",
              "      <td>...</td>\n",
              "      <td>NaN</td>\n",
              "      <td>NaN</td>\n",
              "      <td>NaN</td>\n",
              "      <td>NaN</td>\n",
              "      <td>NaN</td>\n",
              "      <td>NaN</td>\n",
              "      <td>NaN</td>\n",
              "      <td>NaN</td>\n",
              "      <td>NaN</td>\n",
              "      <td>NaN</td>\n",
              "    </tr>\n",
              "    <tr>\n",
              "      <th>2</th>\n",
              "      <td>2003</td>\n",
              "      <td>2003-03-30</td>\n",
              "      <td>09:00</td>\n",
              "      <td>1</td>\n",
              "      <td>Estádio Jornalista Mário Filho</td>\n",
              "      <td>NaN</td>\n",
              "      <td>NaN</td>\n",
              "      <td>NaN</td>\n",
              "      <td>Flamengo</td>\n",
              "      <td>Coritiba FC</td>\n",
              "      <td>...</td>\n",
              "      <td>NaN</td>\n",
              "      <td>NaN</td>\n",
              "      <td>NaN</td>\n",
              "      <td>NaN</td>\n",
              "      <td>NaN</td>\n",
              "      <td>NaN</td>\n",
              "      <td>NaN</td>\n",
              "      <td>NaN</td>\n",
              "      <td>NaN</td>\n",
              "      <td>NaN</td>\n",
              "    </tr>\n",
              "    <tr>\n",
              "      <th>3</th>\n",
              "      <td>2003</td>\n",
              "      <td>2003-03-30</td>\n",
              "      <td>09:00</td>\n",
              "      <td>1</td>\n",
              "      <td>Estádio de Hailé Pinheiro</td>\n",
              "      <td>NaN</td>\n",
              "      <td>NaN</td>\n",
              "      <td>NaN</td>\n",
              "      <td>Goiás EC</td>\n",
              "      <td>Paysandu SC</td>\n",
              "      <td>...</td>\n",
              "      <td>NaN</td>\n",
              "      <td>NaN</td>\n",
              "      <td>NaN</td>\n",
              "      <td>NaN</td>\n",
              "      <td>NaN</td>\n",
              "      <td>NaN</td>\n",
              "      <td>NaN</td>\n",
              "      <td>NaN</td>\n",
              "      <td>NaN</td>\n",
              "      <td>NaN</td>\n",
              "    </tr>\n",
              "    <tr>\n",
              "      <th>4</th>\n",
              "      <td>2003</td>\n",
              "      <td>2003-03-30</td>\n",
              "      <td>09:00</td>\n",
              "      <td>1</td>\n",
              "      <td>Estádio Beira-Rio</td>\n",
              "      <td>NaN</td>\n",
              "      <td>NaN</td>\n",
              "      <td>NaN</td>\n",
              "      <td>Internacional</td>\n",
              "      <td>Ponte Preta</td>\n",
              "      <td>...</td>\n",
              "      <td>NaN</td>\n",
              "      <td>NaN</td>\n",
              "      <td>NaN</td>\n",
              "      <td>NaN</td>\n",
              "      <td>NaN</td>\n",
              "      <td>NaN</td>\n",
              "      <td>NaN</td>\n",
              "      <td>NaN</td>\n",
              "      <td>NaN</td>\n",
              "      <td>NaN</td>\n",
              "    </tr>\n",
              "  </tbody>\n",
              "</table>\n",
              "<p>5 rows × 36 columns</p>\n",
              "</div>\n",
              "      <button class=\"colab-df-convert\" onclick=\"convertToInteractive('df-9bb84520-96c1-4ac0-a34b-bbb116c15f76')\"\n",
              "              title=\"Convert this dataframe to an interactive table.\"\n",
              "              style=\"display:none;\">\n",
              "        \n",
              "  <svg xmlns=\"http://www.w3.org/2000/svg\" height=\"24px\"viewBox=\"0 0 24 24\"\n",
              "       width=\"24px\">\n",
              "    <path d=\"M0 0h24v24H0V0z\" fill=\"none\"/>\n",
              "    <path d=\"M18.56 5.44l.94 2.06.94-2.06 2.06-.94-2.06-.94-.94-2.06-.94 2.06-2.06.94zm-11 1L8.5 8.5l.94-2.06 2.06-.94-2.06-.94L8.5 2.5l-.94 2.06-2.06.94zm10 10l.94 2.06.94-2.06 2.06-.94-2.06-.94-.94-2.06-.94 2.06-2.06.94z\"/><path d=\"M17.41 7.96l-1.37-1.37c-.4-.4-.92-.59-1.43-.59-.52 0-1.04.2-1.43.59L10.3 9.45l-7.72 7.72c-.78.78-.78 2.05 0 2.83L4 21.41c.39.39.9.59 1.41.59.51 0 1.02-.2 1.41-.59l7.78-7.78 2.81-2.81c.8-.78.8-2.07 0-2.86zM5.41 20L4 18.59l7.72-7.72 1.47 1.35L5.41 20z\"/>\n",
              "  </svg>\n",
              "      </button>\n",
              "      \n",
              "  <style>\n",
              "    .colab-df-container {\n",
              "      display:flex;\n",
              "      flex-wrap:wrap;\n",
              "      gap: 12px;\n",
              "    }\n",
              "\n",
              "    .colab-df-convert {\n",
              "      background-color: #E8F0FE;\n",
              "      border: none;\n",
              "      border-radius: 50%;\n",
              "      cursor: pointer;\n",
              "      display: none;\n",
              "      fill: #1967D2;\n",
              "      height: 32px;\n",
              "      padding: 0 0 0 0;\n",
              "      width: 32px;\n",
              "    }\n",
              "\n",
              "    .colab-df-convert:hover {\n",
              "      background-color: #E2EBFA;\n",
              "      box-shadow: 0px 1px 2px rgba(60, 64, 67, 0.3), 0px 1px 3px 1px rgba(60, 64, 67, 0.15);\n",
              "      fill: #174EA6;\n",
              "    }\n",
              "\n",
              "    [theme=dark] .colab-df-convert {\n",
              "      background-color: #3B4455;\n",
              "      fill: #D2E3FC;\n",
              "    }\n",
              "\n",
              "    [theme=dark] .colab-df-convert:hover {\n",
              "      background-color: #434B5C;\n",
              "      box-shadow: 0px 1px 3px 1px rgba(0, 0, 0, 0.15);\n",
              "      filter: drop-shadow(0px 1px 2px rgba(0, 0, 0, 0.3));\n",
              "      fill: #FFFFFF;\n",
              "    }\n",
              "  </style>\n",
              "\n",
              "      <script>\n",
              "        const buttonEl =\n",
              "          document.querySelector('#df-9bb84520-96c1-4ac0-a34b-bbb116c15f76 button.colab-df-convert');\n",
              "        buttonEl.style.display =\n",
              "          google.colab.kernel.accessAllowed ? 'block' : 'none';\n",
              "\n",
              "        async function convertToInteractive(key) {\n",
              "          const element = document.querySelector('#df-9bb84520-96c1-4ac0-a34b-bbb116c15f76');\n",
              "          const dataTable =\n",
              "            await google.colab.kernel.invokeFunction('convertToInteractive',\n",
              "                                                     [key], {});\n",
              "          if (!dataTable) return;\n",
              "\n",
              "          const docLinkHtml = 'Like what you see? Visit the ' +\n",
              "            '<a target=\"_blank\" href=https://colab.research.google.com/notebooks/data_table.ipynb>data table notebook</a>'\n",
              "            + ' to learn more about interactive tables.';\n",
              "          element.innerHTML = '';\n",
              "          dataTable['output_type'] = 'display_data';\n",
              "          await google.colab.output.renderOutput(dataTable, element);\n",
              "          const docLink = document.createElement('div');\n",
              "          docLink.innerHTML = docLinkHtml;\n",
              "          element.appendChild(docLink);\n",
              "        }\n",
              "      </script>\n",
              "    </div>\n",
              "  </div>\n",
              "  "
            ]
          },
          "metadata": {},
          "execution_count": 3
        }
      ],
      "source": [
        "df.head()"
      ]
    },
    {
      "cell_type": "code",
      "execution_count": 4,
      "metadata": {
        "colab": {
          "base_uri": "https://localhost:8080/"
        },
        "id": "ikZqArROivUw",
        "outputId": "794f611e-dcd7-4604-e86a-3cd0a2093054"
      },
      "outputs": [
        {
          "output_type": "execute_result",
          "data": {
            "text/plain": [
              "chutes_fora_vis             0.892888\n",
              "defesas_man                 0.892888\n",
              "chutes_bola_parada_man      0.892888\n",
              "faltas_vis                  0.892888\n",
              "faltas_man                  0.892888\n",
              "escanteios_vis              0.892888\n",
              "escanteios_man              0.892888\n",
              "defesas_vis                 0.892888\n",
              "impedimentos_man            0.892888\n",
              "chutes_bola_parada_vis      0.892888\n",
              "chutes_man                  0.892888\n",
              "chutes_fora_man             0.892888\n",
              "chutes_vis                  0.892888\n",
              "impedimentos_vis            0.892888\n",
              "publico_max                 0.604125\n",
              "idade_media_titular_man     0.298720\n",
              "idade_media_titular_vis     0.298720\n",
              "tecnico_vis                 0.298435\n",
              "tecnico_man                 0.298435\n",
              "valor_equipe_titular_vis    0.298435\n",
              "valor_equipe_titular_man    0.298435\n",
              "gols_1_tempo_man            0.244666\n",
              "gols_1_tempo_vis            0.244666\n",
              "publico                     0.243385\n",
              "arbitro                     0.243243\n",
              "colocacao_vis               0.243243\n",
              "colocacao_man               0.243243\n",
              "estadio                     0.001565\n",
              "gols_man                    0.000142\n",
              "gols_vis                    0.000142\n",
              "data                        0.000000\n",
              "time_vis                    0.000000\n",
              "time_man                    0.000000\n",
              "rodada                      0.000000\n",
              "horario                     0.000000\n",
              "ano_campeonato              0.000000\n",
              "dtype: float64"
            ]
          },
          "metadata": {},
          "execution_count": 4
        }
      ],
      "source": [
        "(df.isnull().sum()/df.shape[0]).sort_values(ascending = False)"
      ]
    },
    {
      "cell_type": "code",
      "execution_count": 5,
      "metadata": {
        "id": "dzXPbFDAQ7vm"
      },
      "outputs": [],
      "source": [
        "#retirando colunas que não serão utilizadas na análise\n",
        "df.drop(['chutes_fora_vis', 'defesas_man','chutes_bola_parada_man','faltas_vis','faltas_man',\n",
        "        'escanteios_vis','escanteios_man','defesas_vis','impedimentos_man','chutes_bola_parada_vis','chutes_man','chutes_fora_man',\n",
        "        'chutes_vis','impedimentos_vis','publico_max','idade_media_titular_man','idade_media_titular_vis','valor_equipe_titular_man','valor_equipe_titular_vis','horario', 'publico'] , axis =1, inplace = True)\n"
      ]
    },
    {
      "cell_type": "code",
      "execution_count": 6,
      "metadata": {
        "colab": {
          "base_uri": "https://localhost:8080/",
          "height": 444
        },
        "id": "nbs9ONlemL7Q",
        "outputId": "c2fe2e8c-c6cd-4fc2-f39f-16602a6b5d39"
      },
      "outputs": [
        {
          "output_type": "execute_result",
          "data": {
            "text/plain": [
              "   ano_campeonato        data  rodada                             estadio  \\\n",
              "0            2003  2003-03-29       1  Estádio Brinco de Ouro da Princesa   \n",
              "1            2003  2003-03-29       1                    Arena da Baixada   \n",
              "2            2003  2003-03-30       1      Estádio Jornalista Mário Filho   \n",
              "3            2003  2003-03-30       1           Estádio de Hailé Pinheiro   \n",
              "4            2003  2003-03-30       1                   Estádio Beira-Rio   \n",
              "\n",
              "  arbitro       time_man       time_vis tecnico_man tecnico_vis  \\\n",
              "0     NaN        Guarani  Vasco da Gama         NaN         NaN   \n",
              "1     NaN    Atlético-PR         Grêmio         NaN         NaN   \n",
              "2     NaN       Flamengo    Coritiba FC         NaN         NaN   \n",
              "3     NaN       Goiás EC    Paysandu SC         NaN         NaN   \n",
              "4     NaN  Internacional    Ponte Preta         NaN         NaN   \n",
              "\n",
              "   colocacao_man  colocacao_vis  gols_man  gols_vis  gols_1_tempo_man  \\\n",
              "0            NaN            NaN       4.0       2.0               NaN   \n",
              "1            NaN            NaN       2.0       0.0               NaN   \n",
              "2            NaN            NaN       1.0       1.0               NaN   \n",
              "3            NaN            NaN       2.0       2.0               NaN   \n",
              "4            NaN            NaN       1.0       1.0               NaN   \n",
              "\n",
              "   gols_1_tempo_vis  \n",
              "0               NaN  \n",
              "1               NaN  \n",
              "2               NaN  \n",
              "3               NaN  \n",
              "4               NaN  "
            ],
            "text/html": [
              "\n",
              "  <div id=\"df-a38706f1-b898-43e8-8347-0f71a05b6125\">\n",
              "    <div class=\"colab-df-container\">\n",
              "      <div>\n",
              "<style scoped>\n",
              "    .dataframe tbody tr th:only-of-type {\n",
              "        vertical-align: middle;\n",
              "    }\n",
              "\n",
              "    .dataframe tbody tr th {\n",
              "        vertical-align: top;\n",
              "    }\n",
              "\n",
              "    .dataframe thead th {\n",
              "        text-align: right;\n",
              "    }\n",
              "</style>\n",
              "<table border=\"1\" class=\"dataframe\">\n",
              "  <thead>\n",
              "    <tr style=\"text-align: right;\">\n",
              "      <th></th>\n",
              "      <th>ano_campeonato</th>\n",
              "      <th>data</th>\n",
              "      <th>rodada</th>\n",
              "      <th>estadio</th>\n",
              "      <th>arbitro</th>\n",
              "      <th>time_man</th>\n",
              "      <th>time_vis</th>\n",
              "      <th>tecnico_man</th>\n",
              "      <th>tecnico_vis</th>\n",
              "      <th>colocacao_man</th>\n",
              "      <th>colocacao_vis</th>\n",
              "      <th>gols_man</th>\n",
              "      <th>gols_vis</th>\n",
              "      <th>gols_1_tempo_man</th>\n",
              "      <th>gols_1_tempo_vis</th>\n",
              "    </tr>\n",
              "  </thead>\n",
              "  <tbody>\n",
              "    <tr>\n",
              "      <th>0</th>\n",
              "      <td>2003</td>\n",
              "      <td>2003-03-29</td>\n",
              "      <td>1</td>\n",
              "      <td>Estádio Brinco de Ouro da Princesa</td>\n",
              "      <td>NaN</td>\n",
              "      <td>Guarani</td>\n",
              "      <td>Vasco da Gama</td>\n",
              "      <td>NaN</td>\n",
              "      <td>NaN</td>\n",
              "      <td>NaN</td>\n",
              "      <td>NaN</td>\n",
              "      <td>4.0</td>\n",
              "      <td>2.0</td>\n",
              "      <td>NaN</td>\n",
              "      <td>NaN</td>\n",
              "    </tr>\n",
              "    <tr>\n",
              "      <th>1</th>\n",
              "      <td>2003</td>\n",
              "      <td>2003-03-29</td>\n",
              "      <td>1</td>\n",
              "      <td>Arena da Baixada</td>\n",
              "      <td>NaN</td>\n",
              "      <td>Atlético-PR</td>\n",
              "      <td>Grêmio</td>\n",
              "      <td>NaN</td>\n",
              "      <td>NaN</td>\n",
              "      <td>NaN</td>\n",
              "      <td>NaN</td>\n",
              "      <td>2.0</td>\n",
              "      <td>0.0</td>\n",
              "      <td>NaN</td>\n",
              "      <td>NaN</td>\n",
              "    </tr>\n",
              "    <tr>\n",
              "      <th>2</th>\n",
              "      <td>2003</td>\n",
              "      <td>2003-03-30</td>\n",
              "      <td>1</td>\n",
              "      <td>Estádio Jornalista Mário Filho</td>\n",
              "      <td>NaN</td>\n",
              "      <td>Flamengo</td>\n",
              "      <td>Coritiba FC</td>\n",
              "      <td>NaN</td>\n",
              "      <td>NaN</td>\n",
              "      <td>NaN</td>\n",
              "      <td>NaN</td>\n",
              "      <td>1.0</td>\n",
              "      <td>1.0</td>\n",
              "      <td>NaN</td>\n",
              "      <td>NaN</td>\n",
              "    </tr>\n",
              "    <tr>\n",
              "      <th>3</th>\n",
              "      <td>2003</td>\n",
              "      <td>2003-03-30</td>\n",
              "      <td>1</td>\n",
              "      <td>Estádio de Hailé Pinheiro</td>\n",
              "      <td>NaN</td>\n",
              "      <td>Goiás EC</td>\n",
              "      <td>Paysandu SC</td>\n",
              "      <td>NaN</td>\n",
              "      <td>NaN</td>\n",
              "      <td>NaN</td>\n",
              "      <td>NaN</td>\n",
              "      <td>2.0</td>\n",
              "      <td>2.0</td>\n",
              "      <td>NaN</td>\n",
              "      <td>NaN</td>\n",
              "    </tr>\n",
              "    <tr>\n",
              "      <th>4</th>\n",
              "      <td>2003</td>\n",
              "      <td>2003-03-30</td>\n",
              "      <td>1</td>\n",
              "      <td>Estádio Beira-Rio</td>\n",
              "      <td>NaN</td>\n",
              "      <td>Internacional</td>\n",
              "      <td>Ponte Preta</td>\n",
              "      <td>NaN</td>\n",
              "      <td>NaN</td>\n",
              "      <td>NaN</td>\n",
              "      <td>NaN</td>\n",
              "      <td>1.0</td>\n",
              "      <td>1.0</td>\n",
              "      <td>NaN</td>\n",
              "      <td>NaN</td>\n",
              "    </tr>\n",
              "  </tbody>\n",
              "</table>\n",
              "</div>\n",
              "      <button class=\"colab-df-convert\" onclick=\"convertToInteractive('df-a38706f1-b898-43e8-8347-0f71a05b6125')\"\n",
              "              title=\"Convert this dataframe to an interactive table.\"\n",
              "              style=\"display:none;\">\n",
              "        \n",
              "  <svg xmlns=\"http://www.w3.org/2000/svg\" height=\"24px\"viewBox=\"0 0 24 24\"\n",
              "       width=\"24px\">\n",
              "    <path d=\"M0 0h24v24H0V0z\" fill=\"none\"/>\n",
              "    <path d=\"M18.56 5.44l.94 2.06.94-2.06 2.06-.94-2.06-.94-.94-2.06-.94 2.06-2.06.94zm-11 1L8.5 8.5l.94-2.06 2.06-.94-2.06-.94L8.5 2.5l-.94 2.06-2.06.94zm10 10l.94 2.06.94-2.06 2.06-.94-2.06-.94-.94-2.06-.94 2.06-2.06.94z\"/><path d=\"M17.41 7.96l-1.37-1.37c-.4-.4-.92-.59-1.43-.59-.52 0-1.04.2-1.43.59L10.3 9.45l-7.72 7.72c-.78.78-.78 2.05 0 2.83L4 21.41c.39.39.9.59 1.41.59.51 0 1.02-.2 1.41-.59l7.78-7.78 2.81-2.81c.8-.78.8-2.07 0-2.86zM5.41 20L4 18.59l7.72-7.72 1.47 1.35L5.41 20z\"/>\n",
              "  </svg>\n",
              "      </button>\n",
              "      \n",
              "  <style>\n",
              "    .colab-df-container {\n",
              "      display:flex;\n",
              "      flex-wrap:wrap;\n",
              "      gap: 12px;\n",
              "    }\n",
              "\n",
              "    .colab-df-convert {\n",
              "      background-color: #E8F0FE;\n",
              "      border: none;\n",
              "      border-radius: 50%;\n",
              "      cursor: pointer;\n",
              "      display: none;\n",
              "      fill: #1967D2;\n",
              "      height: 32px;\n",
              "      padding: 0 0 0 0;\n",
              "      width: 32px;\n",
              "    }\n",
              "\n",
              "    .colab-df-convert:hover {\n",
              "      background-color: #E2EBFA;\n",
              "      box-shadow: 0px 1px 2px rgba(60, 64, 67, 0.3), 0px 1px 3px 1px rgba(60, 64, 67, 0.15);\n",
              "      fill: #174EA6;\n",
              "    }\n",
              "\n",
              "    [theme=dark] .colab-df-convert {\n",
              "      background-color: #3B4455;\n",
              "      fill: #D2E3FC;\n",
              "    }\n",
              "\n",
              "    [theme=dark] .colab-df-convert:hover {\n",
              "      background-color: #434B5C;\n",
              "      box-shadow: 0px 1px 3px 1px rgba(0, 0, 0, 0.15);\n",
              "      filter: drop-shadow(0px 1px 2px rgba(0, 0, 0, 0.3));\n",
              "      fill: #FFFFFF;\n",
              "    }\n",
              "  </style>\n",
              "\n",
              "      <script>\n",
              "        const buttonEl =\n",
              "          document.querySelector('#df-a38706f1-b898-43e8-8347-0f71a05b6125 button.colab-df-convert');\n",
              "        buttonEl.style.display =\n",
              "          google.colab.kernel.accessAllowed ? 'block' : 'none';\n",
              "\n",
              "        async function convertToInteractive(key) {\n",
              "          const element = document.querySelector('#df-a38706f1-b898-43e8-8347-0f71a05b6125');\n",
              "          const dataTable =\n",
              "            await google.colab.kernel.invokeFunction('convertToInteractive',\n",
              "                                                     [key], {});\n",
              "          if (!dataTable) return;\n",
              "\n",
              "          const docLinkHtml = 'Like what you see? Visit the ' +\n",
              "            '<a target=\"_blank\" href=https://colab.research.google.com/notebooks/data_table.ipynb>data table notebook</a>'\n",
              "            + ' to learn more about interactive tables.';\n",
              "          element.innerHTML = '';\n",
              "          dataTable['output_type'] = 'display_data';\n",
              "          await google.colab.output.renderOutput(dataTable, element);\n",
              "          const docLink = document.createElement('div');\n",
              "          docLink.innerHTML = docLinkHtml;\n",
              "          element.appendChild(docLink);\n",
              "        }\n",
              "      </script>\n",
              "    </div>\n",
              "  </div>\n",
              "  "
            ]
          },
          "metadata": {},
          "execution_count": 6
        }
      ],
      "source": [
        "df.head()"
      ]
    },
    {
      "cell_type": "code",
      "execution_count": 7,
      "metadata": {
        "colab": {
          "base_uri": "https://localhost:8080/"
        },
        "id": "oLVmbJRUSyuz",
        "outputId": "bd393024-d2e3-4346-c880-260d8f7cfe5e"
      },
      "outputs": [
        {
          "output_type": "execute_result",
          "data": {
            "text/plain": [
              "São Paulo         684\n",
              "Fluminense        684\n",
              "Flamengo          684\n",
              "Santos FC         684\n",
              "Grêmio            646\n",
              "Atlético-MG       646\n",
              "Cruzeiro          646\n",
              "Corinthians       646\n",
              "Internacional     646\n",
              "Palmeiras         608\n",
              "Botafogo          608\n",
              "Vasco da Gama     570\n",
              "Atlético-PR       570\n",
              "Coritiba FC       494\n",
              "Goiás EC          494\n",
              "Figueirense FC    418\n",
              "EC Vitória        380\n",
              "Sport Recife      380\n",
              "Ponte Preta       342\n",
              "EC Bahia          342\n",
              "Paraná            228\n",
              "Avaí FC           228\n",
              "Chapecoense       228\n",
              "Náutico           190\n",
              "Juventude         190\n",
              "Fortaleza         190\n",
              "Atlético-GO       190\n",
              "Ceará SC          190\n",
              "São Caetano       152\n",
              "Criciúma EC       152\n",
              "Guarani           114\n",
              "Paysandu SC       114\n",
              "Portuguesa        114\n",
              "América-MG        114\n",
              "Santa Cruz         76\n",
              "Barueri            76\n",
              "Athletico-PR       76\n",
              "CSA                38\n",
              "Brasiliense-DF     38\n",
              "Ipatinga FC        38\n",
              "RB Bragantino      38\n",
              "Santo André        38\n",
              "América-RN         38\n",
              "Joinville-SC       38\n",
              "dtype: int64"
            ]
          },
          "metadata": {},
          "execution_count": 7
        }
      ],
      "source": [
        "#Contabilizando número de rodadas de cada time que já jogou o Brasileirão\n",
        "(df['time_man'].value_counts() + df['time_vis'].value_counts()).sort_values(ascending = False)"
      ]
    },
    {
      "cell_type": "code",
      "execution_count": 8,
      "metadata": {
        "colab": {
          "base_uri": "https://localhost:8080/"
        },
        "id": "H69B42MLWwvw",
        "outputId": "724b5188-3f99-4fd2-d8dd-9152eaf0ef96"
      },
      "outputs": [
        {
          "output_type": "execute_result",
          "data": {
            "text/plain": [
              "1.0    2378\n",
              "2.0    1803\n",
              "0.0    1421\n",
              "3.0     919\n",
              "4.0     366\n",
              "5.0     105\n",
              "6.0      31\n",
              "7.0       6\n",
              "Name: gols_man, dtype: int64"
            ]
          },
          "metadata": {},
          "execution_count": 8
        }
      ],
      "source": [
        "#Verificando a quantidade mais comum de gols marcados pelos mandantes\n",
        "df.gols_man.value_counts()"
      ]
    },
    {
      "cell_type": "code",
      "source": [
        "#Quantidade de gols ao longo de todos os campeonatos\n",
        "(df.gols_man + df.gols_vis).sum()"
      ],
      "metadata": {
        "colab": {
          "base_uri": "https://localhost:8080/"
        },
        "id": "g7wCj_slHzVv",
        "outputId": "67771252-f9b9-4980-ec3a-88b4b8be82f3"
      },
      "execution_count": 9,
      "outputs": [
        {
          "output_type": "execute_result",
          "data": {
            "text/plain": [
              "18180.0"
            ]
          },
          "metadata": {},
          "execution_count": 9
        }
      ]
    },
    {
      "cell_type": "code",
      "execution_count": 10,
      "metadata": {
        "id": "9zZ7dt-zKm0b"
      },
      "outputs": [],
      "source": [
        "#Retirando o NaN do jogo Chapecoense x Atlético-MG\n",
        "df['gols_man'].fillna(0, inplace = True)"
      ]
    },
    {
      "cell_type": "code",
      "execution_count": 11,
      "metadata": {
        "id": "On0jercFJnhU"
      },
      "outputs": [],
      "source": [
        "#Gerando lista de todos os times que já jogaram o brasileirão\n",
        "times = df['time_man'].unique()\n",
        "times = times.tolist()"
      ]
    },
    {
      "cell_type": "code",
      "execution_count": 12,
      "metadata": {
        "id": "5lJ-yJD7WFGS"
      },
      "outputs": [],
      "source": [
        "#Função para contabilizar a quantidade de gols feitos como mandante\n",
        "vetor = []\n",
        "def casa (lista):\n",
        "  for time in lista:\n",
        "   gols = df['gols_man'].loc[(df['time_man'] == time)].sum()\n",
        "   vetor.append(gols)\n",
        "  return vetor\n",
        "\n",
        "#Função para contabilizar a quantidade de gols feitos como visitante\n",
        "vetor_fora = []\n",
        "def fora (lista):\n",
        "  for time in lista:\n",
        "   gols = df['gols_vis'].loc[(df['time_vis'] == time)].sum()\n",
        "   vetor_fora.append(gols)\n",
        "  return vetor_fora\n",
        "\n",
        "#Função para contabilizar a quantidade de gols sofridos como mandante\n",
        "aux = []\n",
        "def contracasa (lista):\n",
        "  for time in lista:\n",
        "   gols = df['gols_vis'].loc[(df['time_man'] == time)].sum()\n",
        "   aux.append(gols)\n",
        "  return aux\n",
        "\n",
        "#Função para contabilizar a quantidade de gols sofridos como visitante  \n",
        "aux_fora = []\n",
        "def contrafora (lista):\n",
        "  for time in lista:\n",
        "   gols = df['gols_man'].loc[(df['time_vis'] == time)].sum()\n",
        "   aux_fora.append(gols)\n",
        "  return aux_fora"
      ]
    },
    {
      "cell_type": "code",
      "execution_count": 13,
      "metadata": {
        "id": "9ihmKc1oUEVG"
      },
      "outputs": [],
      "source": [
        "#Aplicando as funções de contabilização de gols\n",
        "gols = casa(times)\n",
        "gols_fora = fora(times)\n",
        "gols_casa_contra = contracasa(times)\n",
        "gols_vis_fora = contrafora(times)"
      ]
    },
    {
      "cell_type": "code",
      "execution_count": 14,
      "metadata": {
        "id": "PQBMOeGcN03D"
      },
      "outputs": [],
      "source": [
        "#Gerando DataFrame com os times e gols marcados e sofridos\n",
        "consolidado = pd.DataFrame(times)\n",
        "consolidado['gols_mandante'] = gols\n",
        "consolidado['gols_fora'] = gols_fora\n",
        "consolidado['gols_cedidos_casa'] = gols_casa_contra\n",
        "consolidado['gols_cedidos_fora'] = gols_vis_fora\n",
        "consolidado.rename(columns = {0 :'time'}, inplace = True)"
      ]
    },
    {
      "cell_type": "code",
      "execution_count": 15,
      "metadata": {
        "id": "r7XuVMHoMEeO"
      },
      "outputs": [],
      "source": [
        "#Somando as duas entradas do CAP existentes\n",
        "CAP = consolidado.iloc[1] + consolidado.iloc[41]\n",
        "consolidado = consolidado.append(CAP,ignore_index=True)"
      ]
    },
    {
      "cell_type": "code",
      "execution_count": 16,
      "metadata": {
        "id": "Ie95NWnhlV_V"
      },
      "outputs": [],
      "source": [
        "#Gerando saldos em casa e de gols a favor e contra\n",
        "consolidado['saldo_casa'] = consolidado['gols_mandante'] - consolidado['gols_cedidos_casa']\n",
        "consolidado['saldo_fora'] = consolidado['gols_fora'] - consolidado['gols_cedidos_fora']\n",
        "consolidado['favor'] = consolidado['gols_mandante'] + consolidado['gols_fora']\n",
        "consolidado['contra'] = consolidado['gols_cedidos_casa'] + consolidado['gols_cedidos_fora']"
      ]
    },
    {
      "cell_type": "code",
      "execution_count": 17,
      "metadata": {
        "id": "Hk0SHQFVO2PJ"
      },
      "outputs": [],
      "source": [
        "#Consertando o nome do CAP e retirando as outras duas entradas nao consolidadas\n",
        "consolidado.loc[consolidado[\"time\"] == \"Atlético-PRAthletico-PR\", \"time\"] = \"Athletico-PR\"\n",
        "consolidado.drop([1,41],inplace = True)\n",
        "consolidado.reset_index(inplace = True,drop = True)"
      ]
    },
    {
      "cell_type": "code",
      "execution_count": 18,
      "metadata": {
        "id": "WZPNqX5VSBsH"
      },
      "outputs": [],
      "source": [
        "#Gerando e adicionando lista de siglas dos times ao DataFrame\n",
        "siglas = ['GUA','FLA','GOI','INT','CRC','JUV','FOR','CRU','VIT','SAN','COR','FLU','CAM','CFC','GRE','BAH','FIG','PSC','PON','PAR','SCA','SAO','VAS','BOT','PAL','BRA','SCF','ARN','SPT','NAU','IPT','POR','AVC','STA','BAR','ACG','CEA','AME','CHA','JEC','CSA','BRA','CAP']\n",
        "consolidado['sigla'] = siglas"
      ]
    },
    {
      "cell_type": "code",
      "execution_count": 19,
      "metadata": {
        "id": "JFQ4QE41lBch"
      },
      "outputs": [],
      "source": [
        "#Ordenando os times por gols marcados em casa e gols marcados fora\n",
        "casa = consolidado.groupby(\"time\",as_index=False).sum().sort_values(by='gols_mandante')\n",
        "fora = consolidado.groupby(\"time\",as_index=False).sum().sort_values(by='gols_fora')"
      ]
    },
    {
      "cell_type": "code",
      "execution_count": 20,
      "metadata": {
        "id": "vYmXljb7sI7g"
      },
      "outputs": [],
      "source": [
        "#Ordenando DataFrame pelo nome dos times\n",
        "consolidado = consolidado.sort_values(by= 'time',ignore_index=True)"
      ]
    },
    {
      "cell_type": "code",
      "execution_count": 21,
      "metadata": {
        "id": "yd9vqgujvJ45"
      },
      "outputs": [],
      "source": [
        "#Gerando DataFrame com o número de rodadas jogadas por cada time\n",
        "rodadas = (df['time_man'].value_counts() + df['time_vis'].value_counts()).sort_values(ascending = False)\n",
        "rodadas = pd.DataFrame(data = rodadas,columns=['rodada'])\n",
        "rodadas = rodadas.reset_index(level=0)\n",
        "rodadas.rename(columns = {'index':'times'},inplace = True)\n",
        "rodadas = rodadas.sort_values(by='times',ignore_index=True)"
      ]
    },
    {
      "cell_type": "code",
      "execution_count": 22,
      "metadata": {
        "id": "E9rqYaplz_jD"
      },
      "outputs": [],
      "source": [
        "#Aplicando a correção do CAP\n",
        "CAP_rod = rodadas.iloc[2] + rodadas.iloc[5]\n",
        "rodadas = rodadas.append(CAP_rod,ignore_index=True)\n",
        "rodadas = rodadas.sort_values(by='times',ignore_index=True)\n",
        "rodadas.loc[rodadas[\"times\"] == \"Athletico-PRAtlético-PR\", \"times\"] = \"Athletico-PR\"\n",
        "rodadas.drop([2,6],inplace = True)\n",
        "rodadas.reset_index(inplace = True,drop = True)"
      ]
    },
    {
      "cell_type": "code",
      "execution_count": 23,
      "metadata": {
        "id": "VS7Zm3Twu6Xs"
      },
      "outputs": [],
      "source": [
        "#Adicionando o número de rodadas ao DataFrame\n",
        "consolidado['numero_rodadas'] = rodadas['rodada']\n",
        "\n",
        "#Gerando um dado normalizado de gols feitos e sofridos por rodada jogada\n",
        "consolidado['normal_favor'] = consolidado['favor']/consolidado['numero_rodadas']\n",
        "consolidado['normal_contra'] = consolidado['contra']/consolidado['numero_rodadas']\n",
        "\n",
        "#Gerando um fator entre gols feitos e gols sofridos\n",
        "consolidado['fator'] = consolidado['normal_favor']/consolidado['normal_contra']"
      ]
    },
    {
      "cell_type": "code",
      "source": [
        "consolidado['normal_favor'].mean()"
      ],
      "metadata": {
        "colab": {
          "base_uri": "https://localhost:8080/"
        },
        "id": "K-GlPZqOT3-g",
        "outputId": "25ae26c5-59d5-48e6-f73b-48c12790e737"
      },
      "execution_count": 53,
      "outputs": [
        {
          "output_type": "execute_result",
          "data": {
            "text/plain": [
              "1.198229320459142"
            ]
          },
          "metadata": {},
          "execution_count": 53
        }
      ]
    },
    {
      "cell_type": "code",
      "execution_count": 24,
      "metadata": {
        "id": "EDOSZesqy1gC"
      },
      "outputs": [],
      "source": [
        "#Reordenando as colunas do DataFrame\n",
        "consolidado = consolidado[['time','sigla','numero_rodadas','gols_mandante','gols_fora','gols_cedidos_casa','gols_cedidos_fora','saldo_casa','saldo_fora','favor','contra','normal_favor','normal_contra','fator']]"
      ]
    },
    {
      "cell_type": "code",
      "execution_count": 54,
      "metadata": {
        "colab": {
          "base_uri": "https://localhost:8080/",
          "height": 542
        },
        "id": "mCEceItRzTzR",
        "outputId": "a8dfa006-7b42-4708-bbe9-8e41b973be07"
      },
      "outputs": [
        {
          "output_type": "display_data",
          "data": {
            "text/html": [
              "<html>\n",
              "<head><meta charset=\"utf-8\" /></head>\n",
              "<body>\n",
              "    <div>            <script src=\"https://cdnjs.cloudflare.com/ajax/libs/mathjax/2.7.5/MathJax.js?config=TeX-AMS-MML_SVG\"></script><script type=\"text/javascript\">if (window.MathJax) {MathJax.Hub.Config({SVG: {font: \"STIX-Web\"}});}</script>                <script type=\"text/javascript\">window.PlotlyConfig = {MathJaxConfig: 'local'};</script>\n",
              "        <script src=\"https://cdn.plot.ly/plotly-2.8.3.min.js\"></script>                <div id=\"b221c326-46ed-40bd-9b52-70d7986b81c3\" class=\"plotly-graph-div\" style=\"height:525px; width:100%;\"></div>            <script type=\"text/javascript\">                                    window.PLOTLYENV=window.PLOTLYENV || {};                                    if (document.getElementById(\"b221c326-46ed-40bd-9b52-70d7986b81c3\")) {                    Plotly.newPlot(                        \"b221c326-46ed-40bd-9b52-70d7986b81c3\",                        [{\"customdata\":[[\"Am\\u00e9rica-MG\",\"AME\",0.5977011494252873],[\"Am\\u00e9rica-RN\",\"ARN\",0.3],[\"Athletico-PR\",\"CAP\",1.0616352201257861],[\"Atl\\u00e9tico-GO\",\"ACG\",0.8],[\"Atl\\u00e9tico-MG\",\"CAM\",1.0945157526254374],[\"Ava\\u00ed FC\",\"AVC\",0.676056338028169],[\"Barueri\",\"BAR\",0.8448275862068965],[\"Botafogo\",\"BOT\",0.9694267515923567],[\"Brasiliense-DF\",\"BRA\",0.7580645161290324],[\"CSA\",\"CSA\",0.4137931034482758],[\"Cear\\u00e1 SC\",\"CEA\",0.8571428571428572],[\"Chapecoense\",\"CHA\",0.8013698630136987],[\"Corinthians\",\"COR\",1.2298682284040996],[\"Coritiba FC\",\"CFC\",0.9349206349206349],[\"Crici\\u00fama EC\",\"CRC\",0.7575757575757577],[\"Cruzeiro\",\"CRU\",1.1964285714285714],[\"EC Bahia\",\"BAH\",0.8610478359908884],[\"EC Vit\\u00f3ria\",\"VIT\",0.8709090909090909],[\"Figueirense FC\",\"FIG\",0.8213689482470784],[\"Flamengo\",\"FLA\",1.161172161172161],[\"Fluminense\",\"FLU\",1.0647398843930638],[\"Fortaleza\",\"FOR\",0.8014705882352942],[\"Goi\\u00e1s EC\",\"GOI\",0.9590973201692523],[\"Gr\\u00eamio\",\"GRE\",1.2711621233859398],[\"Guarani\",\"GUA\",0.7861635220125788],[\"Internacional\",\"INT\",1.2151898734177213],[\"Ipatinga FC\",\"IPT\",0.5522388059701493],[\"Joinville-SC\",\"JEC\",0.5416666666666667],[\"Juventude\",\"JUV\",0.8181818181818182],[\"N\\u00e1utico\",\"NAU\",0.7044025157232703],[\"Palmeiras\",\"PAL\",1.2058414464534073],[\"Paran\\u00e1\",\"PAR\",0.8309037900874636],[\"Paysandu SC\",\"PSC\",0.8181818181818182],[\"Ponte Preta\",\"PON\",0.7865853658536585],[\"Portuguesa\",\"POR\",0.8726114649681528],[\"RB Bragantino\",\"BRA\",1.2500000000000002],[\"Santa Cruz\",\"SCF\",0.6],[\"Santo Andr\\u00e9\",\"STA\",0.7540983606557377],[\"Santos FC\",\"SAN\",1.2478527607361964],[\"Sport Recife\",\"SPT\",0.8267419962335216],[\"S\\u00e3o Caetano\",\"SCA\",1.0114942528735633],[\"S\\u00e3o Paulo\",\"SAO\",1.3619047619047622],[\"Vasco da Gama\",\"VAS\",0.8973717146433041]],\"hovertemplate\":\"Gols Sofridos=%{x}<br>Gols Marcados=%{y}<br>Time=%{customdata[0]}<extra></extra>\",\"legendgroup\":\"\",\"marker\":{\"color\":[0.5977011494252873,0.3,1.0616352201257861,0.8,1.0945157526254374,0.676056338028169,0.8448275862068965,0.9694267515923567,0.7580645161290324,0.4137931034482758,0.8571428571428572,0.8013698630136987,1.2298682284040996,0.9349206349206349,0.7575757575757577,1.1964285714285714,0.8610478359908884,0.8709090909090909,0.8213689482470784,1.161172161172161,1.0647398843930638,0.8014705882352942,0.9590973201692523,1.2711621233859398,0.7861635220125788,1.2151898734177213,0.5522388059701493,0.5416666666666667,0.8181818181818182,0.7044025157232703,1.2058414464534073,0.8309037900874636,0.8181818181818182,0.7865853658536585,0.8726114649681528,1.2500000000000002,0.6,0.7540983606557377,1.2478527607361964,0.8267419962335216,1.0114942528735633,1.3619047619047622,0.8973717146433041],\"coloraxis\":\"coloraxis\",\"symbol\":\"circle\",\"line\":{\"color\":\"#1b3333\",\"width\":2},\"size\":8},\"mode\":\"markers+text\",\"name\":\"\",\"orientation\":\"v\",\"showlegend\":false,\"text\":[\"AME\",\"ARN\",\"CAP\",\"ACG\",\"CAM\",\"AVC\",\"BAR\",\"BOT\",\"BRA\",\"CSA\",\"CEA\",\"CHA\",\"COR\",\"CFC\",\"CRC\",\"CRU\",\"BAH\",\"VIT\",\"FIG\",\"FLA\",\"FLU\",\"FOR\",\"GOI\",\"GRE\",\"GUA\",\"INT\",\"IPT\",\"JEC\",\"JUV\",\"NAU\",\"PAL\",\"PAR\",\"PSC\",\"PON\",\"POR\",\"BRA\",\"SCF\",\"STA\",\"SAN\",\"SPT\",\"SCA\",\"SAO\",\"VAS\"],\"x\":[1.5263157894736843,2.1052631578947367,1.2306501547987616,1.4210526315789473,1.326625386996904,1.5570175438596492,1.5263157894736843,1.2911184210526316,1.631578947368421,1.5263157894736843,1.2526315789473683,1.280701754385965,1.0572755417956656,1.2753036437246963,1.519736842105263,1.2136222910216719,1.2836257309941521,1.4473684210526316,1.4330143540669857,1.1973684210526316,1.2646198830409356,1.431578947368421,1.4352226720647774,1.0789473684210527,1.394736842105263,1.1006191950464397,1.763157894736842,1.263157894736842,1.563157894736842,1.6736842105263159,1.1825657894736843,1.5043859649122806,1.8333333333333333,1.4385964912280702,1.3771929824561404,1.0526315789473684,1.9078947368421053,1.605263157894737,1.1915204678362572,1.3973684210526316,1.144736842105263,1.0745614035087718,1.4017543859649122],\"xaxis\":\"x\",\"y\":[0.9122807017543859,0.631578947368421,1.306501547987616,1.1368421052631579,1.4520123839009287,1.0526315789473684,1.2894736842105263,1.2516447368421053,1.236842105263158,0.631578947368421,1.0736842105263158,1.0263157894736843,1.3003095975232197,1.1923076923076923,1.1513157894736843,1.4520123839009287,1.105263157894737,1.2605263157894737,1.1770334928229664,1.3903508771929824,1.3464912280701755,1.1473684210526316,1.3765182186234817,1.3715170278637772,1.0964912280701755,1.3374613003095974,0.9736842105263158,0.6842105263157895,1.2789473684210526,1.1789473684210525,1.425986842105263,1.25,1.5,1.131578947368421,1.2017543859649122,1.3157894736842106,1.144736842105263,1.2105263157894737,1.486842105263158,1.1552631578947368,1.1578947368421053,1.463450292397661,1.2578947368421052],\"yaxis\":\"y\",\"type\":\"scatter\",\"textposition\":\"top right\"}],                        {\"template\":{\"data\":{\"bar\":[{\"error_x\":{\"color\":\"#2a3f5f\"},\"error_y\":{\"color\":\"#2a3f5f\"},\"marker\":{\"line\":{\"color\":\"#E5ECF6\",\"width\":0.5},\"pattern\":{\"fillmode\":\"overlay\",\"size\":10,\"solidity\":0.2}},\"type\":\"bar\"}],\"barpolar\":[{\"marker\":{\"line\":{\"color\":\"#E5ECF6\",\"width\":0.5},\"pattern\":{\"fillmode\":\"overlay\",\"size\":10,\"solidity\":0.2}},\"type\":\"barpolar\"}],\"carpet\":[{\"aaxis\":{\"endlinecolor\":\"#2a3f5f\",\"gridcolor\":\"white\",\"linecolor\":\"white\",\"minorgridcolor\":\"white\",\"startlinecolor\":\"#2a3f5f\"},\"baxis\":{\"endlinecolor\":\"#2a3f5f\",\"gridcolor\":\"white\",\"linecolor\":\"white\",\"minorgridcolor\":\"white\",\"startlinecolor\":\"#2a3f5f\"},\"type\":\"carpet\"}],\"choropleth\":[{\"colorbar\":{\"outlinewidth\":0,\"ticks\":\"\"},\"type\":\"choropleth\"}],\"contour\":[{\"colorbar\":{\"outlinewidth\":0,\"ticks\":\"\"},\"colorscale\":[[0.0,\"#0d0887\"],[0.1111111111111111,\"#46039f\"],[0.2222222222222222,\"#7201a8\"],[0.3333333333333333,\"#9c179e\"],[0.4444444444444444,\"#bd3786\"],[0.5555555555555556,\"#d8576b\"],[0.6666666666666666,\"#ed7953\"],[0.7777777777777778,\"#fb9f3a\"],[0.8888888888888888,\"#fdca26\"],[1.0,\"#f0f921\"]],\"type\":\"contour\"}],\"contourcarpet\":[{\"colorbar\":{\"outlinewidth\":0,\"ticks\":\"\"},\"type\":\"contourcarpet\"}],\"heatmap\":[{\"colorbar\":{\"outlinewidth\":0,\"ticks\":\"\"},\"colorscale\":[[0.0,\"#0d0887\"],[0.1111111111111111,\"#46039f\"],[0.2222222222222222,\"#7201a8\"],[0.3333333333333333,\"#9c179e\"],[0.4444444444444444,\"#bd3786\"],[0.5555555555555556,\"#d8576b\"],[0.6666666666666666,\"#ed7953\"],[0.7777777777777778,\"#fb9f3a\"],[0.8888888888888888,\"#fdca26\"],[1.0,\"#f0f921\"]],\"type\":\"heatmap\"}],\"heatmapgl\":[{\"colorbar\":{\"outlinewidth\":0,\"ticks\":\"\"},\"colorscale\":[[0.0,\"#0d0887\"],[0.1111111111111111,\"#46039f\"],[0.2222222222222222,\"#7201a8\"],[0.3333333333333333,\"#9c179e\"],[0.4444444444444444,\"#bd3786\"],[0.5555555555555556,\"#d8576b\"],[0.6666666666666666,\"#ed7953\"],[0.7777777777777778,\"#fb9f3a\"],[0.8888888888888888,\"#fdca26\"],[1.0,\"#f0f921\"]],\"type\":\"heatmapgl\"}],\"histogram\":[{\"marker\":{\"pattern\":{\"fillmode\":\"overlay\",\"size\":10,\"solidity\":0.2}},\"type\":\"histogram\"}],\"histogram2d\":[{\"colorbar\":{\"outlinewidth\":0,\"ticks\":\"\"},\"colorscale\":[[0.0,\"#0d0887\"],[0.1111111111111111,\"#46039f\"],[0.2222222222222222,\"#7201a8\"],[0.3333333333333333,\"#9c179e\"],[0.4444444444444444,\"#bd3786\"],[0.5555555555555556,\"#d8576b\"],[0.6666666666666666,\"#ed7953\"],[0.7777777777777778,\"#fb9f3a\"],[0.8888888888888888,\"#fdca26\"],[1.0,\"#f0f921\"]],\"type\":\"histogram2d\"}],\"histogram2dcontour\":[{\"colorbar\":{\"outlinewidth\":0,\"ticks\":\"\"},\"colorscale\":[[0.0,\"#0d0887\"],[0.1111111111111111,\"#46039f\"],[0.2222222222222222,\"#7201a8\"],[0.3333333333333333,\"#9c179e\"],[0.4444444444444444,\"#bd3786\"],[0.5555555555555556,\"#d8576b\"],[0.6666666666666666,\"#ed7953\"],[0.7777777777777778,\"#fb9f3a\"],[0.8888888888888888,\"#fdca26\"],[1.0,\"#f0f921\"]],\"type\":\"histogram2dcontour\"}],\"mesh3d\":[{\"colorbar\":{\"outlinewidth\":0,\"ticks\":\"\"},\"type\":\"mesh3d\"}],\"parcoords\":[{\"line\":{\"colorbar\":{\"outlinewidth\":0,\"ticks\":\"\"}},\"type\":\"parcoords\"}],\"pie\":[{\"automargin\":true,\"type\":\"pie\"}],\"scatter\":[{\"marker\":{\"colorbar\":{\"outlinewidth\":0,\"ticks\":\"\"}},\"type\":\"scatter\"}],\"scatter3d\":[{\"line\":{\"colorbar\":{\"outlinewidth\":0,\"ticks\":\"\"}},\"marker\":{\"colorbar\":{\"outlinewidth\":0,\"ticks\":\"\"}},\"type\":\"scatter3d\"}],\"scattercarpet\":[{\"marker\":{\"colorbar\":{\"outlinewidth\":0,\"ticks\":\"\"}},\"type\":\"scattercarpet\"}],\"scattergeo\":[{\"marker\":{\"colorbar\":{\"outlinewidth\":0,\"ticks\":\"\"}},\"type\":\"scattergeo\"}],\"scattergl\":[{\"marker\":{\"colorbar\":{\"outlinewidth\":0,\"ticks\":\"\"}},\"type\":\"scattergl\"}],\"scattermapbox\":[{\"marker\":{\"colorbar\":{\"outlinewidth\":0,\"ticks\":\"\"}},\"type\":\"scattermapbox\"}],\"scatterpolar\":[{\"marker\":{\"colorbar\":{\"outlinewidth\":0,\"ticks\":\"\"}},\"type\":\"scatterpolar\"}],\"scatterpolargl\":[{\"marker\":{\"colorbar\":{\"outlinewidth\":0,\"ticks\":\"\"}},\"type\":\"scatterpolargl\"}],\"scatterternary\":[{\"marker\":{\"colorbar\":{\"outlinewidth\":0,\"ticks\":\"\"}},\"type\":\"scatterternary\"}],\"surface\":[{\"colorbar\":{\"outlinewidth\":0,\"ticks\":\"\"},\"colorscale\":[[0.0,\"#0d0887\"],[0.1111111111111111,\"#46039f\"],[0.2222222222222222,\"#7201a8\"],[0.3333333333333333,\"#9c179e\"],[0.4444444444444444,\"#bd3786\"],[0.5555555555555556,\"#d8576b\"],[0.6666666666666666,\"#ed7953\"],[0.7777777777777778,\"#fb9f3a\"],[0.8888888888888888,\"#fdca26\"],[1.0,\"#f0f921\"]],\"type\":\"surface\"}],\"table\":[{\"cells\":{\"fill\":{\"color\":\"#EBF0F8\"},\"line\":{\"color\":\"white\"}},\"header\":{\"fill\":{\"color\":\"#C8D4E3\"},\"line\":{\"color\":\"white\"}},\"type\":\"table\"}]},\"layout\":{\"annotationdefaults\":{\"arrowcolor\":\"#2a3f5f\",\"arrowhead\":0,\"arrowwidth\":1},\"autotypenumbers\":\"strict\",\"coloraxis\":{\"colorbar\":{\"outlinewidth\":0,\"ticks\":\"\"}},\"colorscale\":{\"diverging\":[[0,\"#8e0152\"],[0.1,\"#c51b7d\"],[0.2,\"#de77ae\"],[0.3,\"#f1b6da\"],[0.4,\"#fde0ef\"],[0.5,\"#f7f7f7\"],[0.6,\"#e6f5d0\"],[0.7,\"#b8e186\"],[0.8,\"#7fbc41\"],[0.9,\"#4d9221\"],[1,\"#276419\"]],\"sequential\":[[0.0,\"#0d0887\"],[0.1111111111111111,\"#46039f\"],[0.2222222222222222,\"#7201a8\"],[0.3333333333333333,\"#9c179e\"],[0.4444444444444444,\"#bd3786\"],[0.5555555555555556,\"#d8576b\"],[0.6666666666666666,\"#ed7953\"],[0.7777777777777778,\"#fb9f3a\"],[0.8888888888888888,\"#fdca26\"],[1.0,\"#f0f921\"]],\"sequentialminus\":[[0.0,\"#0d0887\"],[0.1111111111111111,\"#46039f\"],[0.2222222222222222,\"#7201a8\"],[0.3333333333333333,\"#9c179e\"],[0.4444444444444444,\"#bd3786\"],[0.5555555555555556,\"#d8576b\"],[0.6666666666666666,\"#ed7953\"],[0.7777777777777778,\"#fb9f3a\"],[0.8888888888888888,\"#fdca26\"],[1.0,\"#f0f921\"]]},\"colorway\":[\"#636efa\",\"#EF553B\",\"#00cc96\",\"#ab63fa\",\"#FFA15A\",\"#19d3f3\",\"#FF6692\",\"#B6E880\",\"#FF97FF\",\"#FECB52\"],\"font\":{\"color\":\"#2a3f5f\"},\"geo\":{\"bgcolor\":\"white\",\"lakecolor\":\"white\",\"landcolor\":\"#E5ECF6\",\"showlakes\":true,\"showland\":true,\"subunitcolor\":\"white\"},\"hoverlabel\":{\"align\":\"left\"},\"hovermode\":\"closest\",\"mapbox\":{\"style\":\"light\"},\"paper_bgcolor\":\"white\",\"plot_bgcolor\":\"#E5ECF6\",\"polar\":{\"angularaxis\":{\"gridcolor\":\"white\",\"linecolor\":\"white\",\"ticks\":\"\"},\"bgcolor\":\"#E5ECF6\",\"radialaxis\":{\"gridcolor\":\"white\",\"linecolor\":\"white\",\"ticks\":\"\"}},\"scene\":{\"xaxis\":{\"backgroundcolor\":\"#E5ECF6\",\"gridcolor\":\"white\",\"gridwidth\":2,\"linecolor\":\"white\",\"showbackground\":true,\"ticks\":\"\",\"zerolinecolor\":\"white\"},\"yaxis\":{\"backgroundcolor\":\"#E5ECF6\",\"gridcolor\":\"white\",\"gridwidth\":2,\"linecolor\":\"white\",\"showbackground\":true,\"ticks\":\"\",\"zerolinecolor\":\"white\"},\"zaxis\":{\"backgroundcolor\":\"#E5ECF6\",\"gridcolor\":\"white\",\"gridwidth\":2,\"linecolor\":\"white\",\"showbackground\":true,\"ticks\":\"\",\"zerolinecolor\":\"white\"}},\"shapedefaults\":{\"line\":{\"color\":\"#2a3f5f\"}},\"ternary\":{\"aaxis\":{\"gridcolor\":\"white\",\"linecolor\":\"white\",\"ticks\":\"\"},\"baxis\":{\"gridcolor\":\"white\",\"linecolor\":\"white\",\"ticks\":\"\"},\"bgcolor\":\"#E5ECF6\",\"caxis\":{\"gridcolor\":\"white\",\"linecolor\":\"white\",\"ticks\":\"\"}},\"title\":{\"x\":0.05},\"xaxis\":{\"automargin\":true,\"gridcolor\":\"white\",\"linecolor\":\"white\",\"ticks\":\"\",\"title\":{\"standoff\":15},\"zerolinecolor\":\"white\",\"zerolinewidth\":2},\"yaxis\":{\"automargin\":true,\"gridcolor\":\"white\",\"linecolor\":\"white\",\"ticks\":\"\",\"title\":{\"standoff\":15},\"zerolinecolor\":\"white\",\"zerolinewidth\":2}}},\"xaxis\":{\"anchor\":\"y\",\"domain\":[0.0,1.0],\"title\":{\"text\":\"<b>Gols cedidos por rodada\",\"font\":{\"color\":\"#94001A\",\"family\":\"Nunito\",\"size\":14}},\"linecolor\":\"#444\",\"range\":[0,2.2],\"autorange\":\"reversed\"},\"yaxis\":{\"anchor\":\"x\",\"domain\":[0.0,1.0],\"title\":{\"text\":\"<b>Gols feitos por rodada\",\"font\":{\"color\":\"#94001A\",\"family\":\"Nunito\",\"size\":14}},\"linecolor\":\"#444\",\"range\":[0,1.6]},\"coloraxis\":{\"colorbar\":{\"title\":{\"text\":\"Fator de aproveitamento\"}},\"colorscale\":[[0.0,\"rgb(247,252,245)\"],[0.125,\"rgb(229,245,224)\"],[0.25,\"rgb(199,233,192)\"],[0.375,\"rgb(161,217,155)\"],[0.5,\"rgb(116,196,118)\"],[0.625,\"rgb(65,171,93)\"],[0.75,\"rgb(35,139,69)\"],[0.875,\"rgb(0,109,44)\"],[1.0,\"rgb(0,68,27)\"]],\"showscale\":false},\"legend\":{\"tracegroupgap\":0},\"margin\":{\"t\":60},\"title\":{\"font\":{\"family\":\"Lato\",\"color\":\"#94001A\"},\"text\":\"<b>Qual o time mais efetivo?\",\"x\":0.5},\"plot_bgcolor\":\"#ffffff\",\"shapes\":[{\"line\":{\"color\":\"#1b3333\",\"dash\":\"dash\",\"width\":1},\"type\":\"line\",\"x0\":1.399618384871103,\"x1\":1.399618384871103,\"xref\":\"x\",\"y0\":0,\"y1\":1,\"yref\":\"y domain\"},{\"line\":{\"color\":\"#1b3333\",\"dash\":\"dash\",\"width\":1},\"type\":\"line\",\"x0\":0,\"x1\":1,\"xref\":\"x domain\",\"y0\":1.198229320459142,\"y1\":1.198229320459142,\"yref\":\"y\"}],\"annotations\":[{\"align\":\"center\",\"bgcolor\":\"#f7f7f7\",\"font\":{\"color\":\"#94001A\",\"family\":\"Lato\",\"size\":14},\"opacity\":0.8,\"showarrow\":false,\"text\":\"<b>Mais efetivos\",\"x\":0.8,\"xref\":\"paper\",\"y\":1.05,\"yref\":\"paper\"},{\"align\":\"center\",\"bgcolor\":\"#f7f7f7\",\"font\":{\"color\":\"#94001A\",\"family\":\"Lato\",\"size\":14},\"opacity\":0.8,\"showarrow\":false,\"text\":\"<b>Menos efetivos\",\"x\":0.2,\"xref\":\"paper\",\"y\":0.2,\"yref\":\"paper\"}]},                        {\"responsive\": true}                    ).then(function(){\n",
              "                            \n",
              "var gd = document.getElementById('b221c326-46ed-40bd-9b52-70d7986b81c3');\n",
              "var x = new MutationObserver(function (mutations, observer) {{\n",
              "        var display = window.getComputedStyle(gd).display;\n",
              "        if (!display || display === 'none') {{\n",
              "            console.log([gd, 'removed!']);\n",
              "            Plotly.purge(gd);\n",
              "            observer.disconnect();\n",
              "        }}\n",
              "}});\n",
              "\n",
              "// Listen for the removal of the full notebook cells\n",
              "var notebookContainer = gd.closest('#notebook-container');\n",
              "if (notebookContainer) {{\n",
              "    x.observe(notebookContainer, {childList: true});\n",
              "}}\n",
              "\n",
              "// Listen for the clearing of the current output cell\n",
              "var outputEl = gd.closest('.output');\n",
              "if (outputEl) {{\n",
              "    x.observe(outputEl, {childList: true});\n",
              "}}\n",
              "\n",
              "                        })                };                            </script>        </div>\n",
              "</body>\n",
              "</html>"
            ]
          },
          "metadata": {}
        }
      ],
      "source": [
        "#Gerando scatter plot\n",
        "fig = px.scatter(consolidado, x='normal_contra', y='normal_favor',\n",
        "                 #size ='favor',\n",
        "                 hover_data = {'normal_favor':True, 'normal_contra':True, 'time':True,'sigla':False,'fator':False},\n",
        "                 text = 'sigla',\n",
        "                 color = 'fator',\n",
        "                 color_continuous_scale='greens', \n",
        "                 labels = {'normal_favor':\"Gols Marcados\",\n",
        "                          'normal_contra':'Gols Sofridos',\n",
        "                          'fator':'Fator de aproveitamento',\n",
        "                          'time': 'Time'}\n",
        "             )\n",
        "#Adicionando legendas as marcações do scatter\n",
        "fig.update_traces(textposition=\"top right\",\n",
        "                  marker=dict(size=8,\n",
        "                              line=dict(width=2,\n",
        "                                        color='#1b3333')\n",
        "                                        ),\n",
        "                  )\n",
        "#Alterando títulos do gráfico e dos eixos\n",
        "fig.update_layout(plot_bgcolor=\"#ffffff\",\n",
        "                  title_text = \"<b>Qual o time mais efetivo?\",\n",
        "                  title_x = 0.5,\n",
        "                  title_font_family=\"Lato\",\n",
        "                  title_font_color=\"#94001A\",\n",
        "                  xaxis={\"title\":\"<b>Gols cedidos por rodada\"},\n",
        "                  yaxis={\"title\":\"<b>Gols feitos por rodada\"})\n",
        "\n",
        "#Adicionando linhas pontilhadas\n",
        "fig.add_vline(x=consolidado['normal_contra'].mean(), line_width=1, line_dash=\"dash\", line_color=\"#1b3333\")\n",
        "fig.add_hline(y=consolidado['normal_favor'].mean(), line_width=1, line_dash=\"dash\", line_color=\"#1b3333\")\n",
        "\n",
        "#Adicionando anotação superior\n",
        "fig.add_annotation(text=\"<b>Mais efetivos\",\n",
        "                  xref=\"paper\", yref=\"paper\",\n",
        "                  x=0.8, y=1.05, showarrow=False,\n",
        "                  font=dict(\n",
        "                            family=\"Lato\",\n",
        "                            size=14,\n",
        "                            color=\"#94001A\"\n",
        "                            ),\n",
        "                  align=\"center\",\n",
        "                  bgcolor=\"#f7f7f7\",\n",
        "                  opacity=0.8)\n",
        "\n",
        "#Adicionando anotação inferior\n",
        "fig.add_annotation(text=\"<b>Menos efetivos\",\n",
        "                  xref=\"paper\", yref=\"paper\",\n",
        "                  x=0.2, y=0.2, showarrow=False,\n",
        "                  font=dict(\n",
        "                            family=\"Lato\",\n",
        "                            size=14,\n",
        "                            color=\"#94001A\"\n",
        "                            ),\n",
        "                  align=\"center\",\n",
        "                  bgcolor=\"#f7f7f7\",\n",
        "                  opacity=0.8)\n",
        "\n",
        "#Formatando o eixo X\n",
        "fig.update_xaxes(linecolor = \"#444\",range = (0,2.2),autorange=\"reversed\",title_font_color=\"#94001A\",title_font_family=\"Nunito\",title_font_size=14)\n",
        "#Formatando o eixo Y\n",
        "fig.update_yaxes(linecolor = \"#444\",range = (0,1.6),title_font_color=\"#94001A\",title_font_family=\"Nunito\",title_font_size=14)\n",
        "#Retirando legenda de cores\n",
        "fig.update(layout_coloraxis_showscale=False)\n",
        "\n",
        "fig.show()"
      ]
    },
    {
      "cell_type": "code",
      "execution_count": 26,
      "metadata": {
        "colab": {
          "base_uri": "https://localhost:8080/",
          "height": 542
        },
        "id": "f-HCz_pWnQHA",
        "outputId": "7e7bfc8c-915f-47e7-db7e-1e10c05b5cc4"
      },
      "outputs": [
        {
          "output_type": "display_data",
          "data": {
            "text/html": [
              "<html>\n",
              "<head><meta charset=\"utf-8\" /></head>\n",
              "<body>\n",
              "    <div>            <script src=\"https://cdnjs.cloudflare.com/ajax/libs/mathjax/2.7.5/MathJax.js?config=TeX-AMS-MML_SVG\"></script><script type=\"text/javascript\">if (window.MathJax) {MathJax.Hub.Config({SVG: {font: \"STIX-Web\"}});}</script>                <script type=\"text/javascript\">window.PlotlyConfig = {MathJaxConfig: 'local'};</script>\n",
              "        <script src=\"https://cdn.plot.ly/plotly-2.8.3.min.js\"></script>                <div id=\"7fd0265c-f91d-4bc4-b2ed-31c9d2b5dda9\" class=\"plotly-graph-div\" style=\"height:525px; width:100%;\"></div>            <script type=\"text/javascript\">                                    window.PLOTLYENV=window.PLOTLYENV || {};                                    if (document.getElementById(\"7fd0265c-f91d-4bc4-b2ed-31c9d2b5dda9\")) {                    Plotly.newPlot(                        \"7fd0265c-f91d-4bc4-b2ed-31c9d2b5dda9\",                        [{\"alignmentgroup\":\"True\",\"hovertemplate\":\"Time=%{x}<br>Gols=%{marker.color}<extra></extra>\",\"legendgroup\":\"\",\"marker\":{\"color\":[12.0,17.0,19.0,25.0,28.0,29.0,34.0,50.0,60.0,68.0,73.0,90.0,100.0,109.0,116.0,116.0,119.0,131.0,136.0,136.0,141.0,147.0,173.0,225.0,240.0,278.0,286.0,303.0,347.0,417.0,424.0,466.0,489.0,519.0,519.0,523.0,528.0,557.0,563.0,569.0,569.0,581.0,626.0],\"coloraxis\":\"coloraxis\",\"pattern\":{\"shape\":\"\"}},\"name\":\"\",\"offsetgroup\":\"\",\"orientation\":\"v\",\"showlegend\":false,\"textposition\":\"outside\",\"texttemplate\":\"%{y:.3s}\",\"x\":[\"Am\\u00e9rica-RN\",\"CSA\",\"Joinville-SC\",\"Brasiliense-DF\",\"Ipatinga FC\",\"Santo Andr\\u00e9\",\"RB Bragantino\",\"Santa Cruz\",\"Barueri\",\"Am\\u00e9rica-MG\",\"Guarani\",\"Portuguesa\",\"S\\u00e3o Caetano\",\"Crici\\u00fama EC\",\"Cear\\u00e1 SC\",\"Paysandu SC\",\"Atl\\u00e9tico-GO\",\"N\\u00e1utico\",\"Fortaleza\",\"Chapecoense\",\"Juventude\",\"Ava\\u00ed FC\",\"Paran\\u00e1\",\"EC Bahia\",\"Ponte Preta\",\"Sport Recife\",\"Figueirense FC\",\"EC Vit\\u00f3ria\",\"Coritiba FC\",\"Goi\\u00e1s EC\",\"Vasco da Gama\",\"Botafogo\",\"Corinthians\",\"Fluminense\",\"Internacional\",\"Palmeiras\",\"Athletico-PR\",\"Gr\\u00eamio\",\"Atl\\u00e9tico-MG\",\"Cruzeiro\",\"Flamengo\",\"S\\u00e3o Paulo\",\"Santos FC\"],\"xaxis\":\"x\",\"y\":[12.0,17.0,19.0,25.0,28.0,29.0,34.0,50.0,60.0,68.0,73.0,90.0,100.0,109.0,116.0,116.0,119.0,131.0,136.0,136.0,141.0,147.0,173.0,225.0,240.0,278.0,286.0,303.0,347.0,417.0,424.0,466.0,489.0,519.0,519.0,523.0,528.0,557.0,563.0,569.0,569.0,581.0,626.0],\"yaxis\":\"y\",\"type\":\"bar\",\"textfont\":{\"size\":12},\"cliponaxis\":false,\"textangle\":0}],                        {\"template\":{\"data\":{\"bar\":[{\"error_x\":{\"color\":\"#2a3f5f\"},\"error_y\":{\"color\":\"#2a3f5f\"},\"marker\":{\"line\":{\"color\":\"#E5ECF6\",\"width\":0.5},\"pattern\":{\"fillmode\":\"overlay\",\"size\":10,\"solidity\":0.2}},\"type\":\"bar\"}],\"barpolar\":[{\"marker\":{\"line\":{\"color\":\"#E5ECF6\",\"width\":0.5},\"pattern\":{\"fillmode\":\"overlay\",\"size\":10,\"solidity\":0.2}},\"type\":\"barpolar\"}],\"carpet\":[{\"aaxis\":{\"endlinecolor\":\"#2a3f5f\",\"gridcolor\":\"white\",\"linecolor\":\"white\",\"minorgridcolor\":\"white\",\"startlinecolor\":\"#2a3f5f\"},\"baxis\":{\"endlinecolor\":\"#2a3f5f\",\"gridcolor\":\"white\",\"linecolor\":\"white\",\"minorgridcolor\":\"white\",\"startlinecolor\":\"#2a3f5f\"},\"type\":\"carpet\"}],\"choropleth\":[{\"colorbar\":{\"outlinewidth\":0,\"ticks\":\"\"},\"type\":\"choropleth\"}],\"contour\":[{\"colorbar\":{\"outlinewidth\":0,\"ticks\":\"\"},\"colorscale\":[[0.0,\"#0d0887\"],[0.1111111111111111,\"#46039f\"],[0.2222222222222222,\"#7201a8\"],[0.3333333333333333,\"#9c179e\"],[0.4444444444444444,\"#bd3786\"],[0.5555555555555556,\"#d8576b\"],[0.6666666666666666,\"#ed7953\"],[0.7777777777777778,\"#fb9f3a\"],[0.8888888888888888,\"#fdca26\"],[1.0,\"#f0f921\"]],\"type\":\"contour\"}],\"contourcarpet\":[{\"colorbar\":{\"outlinewidth\":0,\"ticks\":\"\"},\"type\":\"contourcarpet\"}],\"heatmap\":[{\"colorbar\":{\"outlinewidth\":0,\"ticks\":\"\"},\"colorscale\":[[0.0,\"#0d0887\"],[0.1111111111111111,\"#46039f\"],[0.2222222222222222,\"#7201a8\"],[0.3333333333333333,\"#9c179e\"],[0.4444444444444444,\"#bd3786\"],[0.5555555555555556,\"#d8576b\"],[0.6666666666666666,\"#ed7953\"],[0.7777777777777778,\"#fb9f3a\"],[0.8888888888888888,\"#fdca26\"],[1.0,\"#f0f921\"]],\"type\":\"heatmap\"}],\"heatmapgl\":[{\"colorbar\":{\"outlinewidth\":0,\"ticks\":\"\"},\"colorscale\":[[0.0,\"#0d0887\"],[0.1111111111111111,\"#46039f\"],[0.2222222222222222,\"#7201a8\"],[0.3333333333333333,\"#9c179e\"],[0.4444444444444444,\"#bd3786\"],[0.5555555555555556,\"#d8576b\"],[0.6666666666666666,\"#ed7953\"],[0.7777777777777778,\"#fb9f3a\"],[0.8888888888888888,\"#fdca26\"],[1.0,\"#f0f921\"]],\"type\":\"heatmapgl\"}],\"histogram\":[{\"marker\":{\"pattern\":{\"fillmode\":\"overlay\",\"size\":10,\"solidity\":0.2}},\"type\":\"histogram\"}],\"histogram2d\":[{\"colorbar\":{\"outlinewidth\":0,\"ticks\":\"\"},\"colorscale\":[[0.0,\"#0d0887\"],[0.1111111111111111,\"#46039f\"],[0.2222222222222222,\"#7201a8\"],[0.3333333333333333,\"#9c179e\"],[0.4444444444444444,\"#bd3786\"],[0.5555555555555556,\"#d8576b\"],[0.6666666666666666,\"#ed7953\"],[0.7777777777777778,\"#fb9f3a\"],[0.8888888888888888,\"#fdca26\"],[1.0,\"#f0f921\"]],\"type\":\"histogram2d\"}],\"histogram2dcontour\":[{\"colorbar\":{\"outlinewidth\":0,\"ticks\":\"\"},\"colorscale\":[[0.0,\"#0d0887\"],[0.1111111111111111,\"#46039f\"],[0.2222222222222222,\"#7201a8\"],[0.3333333333333333,\"#9c179e\"],[0.4444444444444444,\"#bd3786\"],[0.5555555555555556,\"#d8576b\"],[0.6666666666666666,\"#ed7953\"],[0.7777777777777778,\"#fb9f3a\"],[0.8888888888888888,\"#fdca26\"],[1.0,\"#f0f921\"]],\"type\":\"histogram2dcontour\"}],\"mesh3d\":[{\"colorbar\":{\"outlinewidth\":0,\"ticks\":\"\"},\"type\":\"mesh3d\"}],\"parcoords\":[{\"line\":{\"colorbar\":{\"outlinewidth\":0,\"ticks\":\"\"}},\"type\":\"parcoords\"}],\"pie\":[{\"automargin\":true,\"type\":\"pie\"}],\"scatter\":[{\"marker\":{\"colorbar\":{\"outlinewidth\":0,\"ticks\":\"\"}},\"type\":\"scatter\"}],\"scatter3d\":[{\"line\":{\"colorbar\":{\"outlinewidth\":0,\"ticks\":\"\"}},\"marker\":{\"colorbar\":{\"outlinewidth\":0,\"ticks\":\"\"}},\"type\":\"scatter3d\"}],\"scattercarpet\":[{\"marker\":{\"colorbar\":{\"outlinewidth\":0,\"ticks\":\"\"}},\"type\":\"scattercarpet\"}],\"scattergeo\":[{\"marker\":{\"colorbar\":{\"outlinewidth\":0,\"ticks\":\"\"}},\"type\":\"scattergeo\"}],\"scattergl\":[{\"marker\":{\"colorbar\":{\"outlinewidth\":0,\"ticks\":\"\"}},\"type\":\"scattergl\"}],\"scattermapbox\":[{\"marker\":{\"colorbar\":{\"outlinewidth\":0,\"ticks\":\"\"}},\"type\":\"scattermapbox\"}],\"scatterpolar\":[{\"marker\":{\"colorbar\":{\"outlinewidth\":0,\"ticks\":\"\"}},\"type\":\"scatterpolar\"}],\"scatterpolargl\":[{\"marker\":{\"colorbar\":{\"outlinewidth\":0,\"ticks\":\"\"}},\"type\":\"scatterpolargl\"}],\"scatterternary\":[{\"marker\":{\"colorbar\":{\"outlinewidth\":0,\"ticks\":\"\"}},\"type\":\"scatterternary\"}],\"surface\":[{\"colorbar\":{\"outlinewidth\":0,\"ticks\":\"\"},\"colorscale\":[[0.0,\"#0d0887\"],[0.1111111111111111,\"#46039f\"],[0.2222222222222222,\"#7201a8\"],[0.3333333333333333,\"#9c179e\"],[0.4444444444444444,\"#bd3786\"],[0.5555555555555556,\"#d8576b\"],[0.6666666666666666,\"#ed7953\"],[0.7777777777777778,\"#fb9f3a\"],[0.8888888888888888,\"#fdca26\"],[1.0,\"#f0f921\"]],\"type\":\"surface\"}],\"table\":[{\"cells\":{\"fill\":{\"color\":\"#EBF0F8\"},\"line\":{\"color\":\"white\"}},\"header\":{\"fill\":{\"color\":\"#C8D4E3\"},\"line\":{\"color\":\"white\"}},\"type\":\"table\"}]},\"layout\":{\"annotationdefaults\":{\"arrowcolor\":\"#2a3f5f\",\"arrowhead\":0,\"arrowwidth\":1},\"autotypenumbers\":\"strict\",\"coloraxis\":{\"colorbar\":{\"outlinewidth\":0,\"ticks\":\"\"}},\"colorscale\":{\"diverging\":[[0,\"#8e0152\"],[0.1,\"#c51b7d\"],[0.2,\"#de77ae\"],[0.3,\"#f1b6da\"],[0.4,\"#fde0ef\"],[0.5,\"#f7f7f7\"],[0.6,\"#e6f5d0\"],[0.7,\"#b8e186\"],[0.8,\"#7fbc41\"],[0.9,\"#4d9221\"],[1,\"#276419\"]],\"sequential\":[[0.0,\"#0d0887\"],[0.1111111111111111,\"#46039f\"],[0.2222222222222222,\"#7201a8\"],[0.3333333333333333,\"#9c179e\"],[0.4444444444444444,\"#bd3786\"],[0.5555555555555556,\"#d8576b\"],[0.6666666666666666,\"#ed7953\"],[0.7777777777777778,\"#fb9f3a\"],[0.8888888888888888,\"#fdca26\"],[1.0,\"#f0f921\"]],\"sequentialminus\":[[0.0,\"#0d0887\"],[0.1111111111111111,\"#46039f\"],[0.2222222222222222,\"#7201a8\"],[0.3333333333333333,\"#9c179e\"],[0.4444444444444444,\"#bd3786\"],[0.5555555555555556,\"#d8576b\"],[0.6666666666666666,\"#ed7953\"],[0.7777777777777778,\"#fb9f3a\"],[0.8888888888888888,\"#fdca26\"],[1.0,\"#f0f921\"]]},\"colorway\":[\"#636efa\",\"#EF553B\",\"#00cc96\",\"#ab63fa\",\"#FFA15A\",\"#19d3f3\",\"#FF6692\",\"#B6E880\",\"#FF97FF\",\"#FECB52\"],\"font\":{\"color\":\"#2a3f5f\"},\"geo\":{\"bgcolor\":\"white\",\"lakecolor\":\"white\",\"landcolor\":\"#E5ECF6\",\"showlakes\":true,\"showland\":true,\"subunitcolor\":\"white\"},\"hoverlabel\":{\"align\":\"left\"},\"hovermode\":\"closest\",\"mapbox\":{\"style\":\"light\"},\"paper_bgcolor\":\"white\",\"plot_bgcolor\":\"#E5ECF6\",\"polar\":{\"angularaxis\":{\"gridcolor\":\"white\",\"linecolor\":\"white\",\"ticks\":\"\"},\"bgcolor\":\"#E5ECF6\",\"radialaxis\":{\"gridcolor\":\"white\",\"linecolor\":\"white\",\"ticks\":\"\"}},\"scene\":{\"xaxis\":{\"backgroundcolor\":\"#E5ECF6\",\"gridcolor\":\"white\",\"gridwidth\":2,\"linecolor\":\"white\",\"showbackground\":true,\"ticks\":\"\",\"zerolinecolor\":\"white\"},\"yaxis\":{\"backgroundcolor\":\"#E5ECF6\",\"gridcolor\":\"white\",\"gridwidth\":2,\"linecolor\":\"white\",\"showbackground\":true,\"ticks\":\"\",\"zerolinecolor\":\"white\"},\"zaxis\":{\"backgroundcolor\":\"#E5ECF6\",\"gridcolor\":\"white\",\"gridwidth\":2,\"linecolor\":\"white\",\"showbackground\":true,\"ticks\":\"\",\"zerolinecolor\":\"white\"}},\"shapedefaults\":{\"line\":{\"color\":\"#2a3f5f\"}},\"ternary\":{\"aaxis\":{\"gridcolor\":\"white\",\"linecolor\":\"white\",\"ticks\":\"\"},\"baxis\":{\"gridcolor\":\"white\",\"linecolor\":\"white\",\"ticks\":\"\"},\"bgcolor\":\"#E5ECF6\",\"caxis\":{\"gridcolor\":\"white\",\"linecolor\":\"white\",\"ticks\":\"\"}},\"title\":{\"x\":0.05},\"xaxis\":{\"automargin\":true,\"gridcolor\":\"white\",\"linecolor\":\"white\",\"ticks\":\"\",\"title\":{\"standoff\":15},\"zerolinecolor\":\"white\",\"zerolinewidth\":2},\"yaxis\":{\"automargin\":true,\"gridcolor\":\"white\",\"linecolor\":\"white\",\"ticks\":\"\",\"title\":{\"standoff\":15},\"zerolinecolor\":\"white\",\"zerolinewidth\":2}}},\"xaxis\":{\"anchor\":\"y\",\"domain\":[0.0,1.0],\"title\":{\"text\":\"\"},\"linecolor\":\"#ffffff\",\"tickangle\":45},\"yaxis\":{\"anchor\":\"x\",\"domain\":[0.0,1.0],\"title\":{\"text\":\"<b>Gols\",\"font\":{\"color\":\"#94001A\",\"family\":\"Nunito\",\"size\":18}},\"linecolor\":\"#444\"},\"coloraxis\":{\"colorbar\":{\"title\":{\"text\":\"Gols\"}},\"colorscale\":[[0.0,\"rgb(247,252,245)\"],[0.125,\"rgb(229,245,224)\"],[0.25,\"rgb(199,233,192)\"],[0.375,\"rgb(161,217,155)\"],[0.5,\"rgb(116,196,118)\"],[0.625,\"rgb(65,171,93)\"],[0.75,\"rgb(35,139,69)\"],[0.875,\"rgb(0,109,44)\"],[1.0,\"rgb(0,68,27)\"]],\"showscale\":false},\"legend\":{\"tracegroupgap\":0},\"margin\":{\"t\":60},\"barmode\":\"relative\",\"title\":{\"font\":{\"family\":\"Lato\",\"color\":\"#94001A\"},\"text\":\"<b>Gols marcados em casa desde 2003</b>\",\"x\":0.5},\"plot_bgcolor\":\"#FFFFFF\"},                        {\"responsive\": true}                    ).then(function(){\n",
              "                            \n",
              "var gd = document.getElementById('7fd0265c-f91d-4bc4-b2ed-31c9d2b5dda9');\n",
              "var x = new MutationObserver(function (mutations, observer) {{\n",
              "        var display = window.getComputedStyle(gd).display;\n",
              "        if (!display || display === 'none') {{\n",
              "            console.log([gd, 'removed!']);\n",
              "            Plotly.purge(gd);\n",
              "            observer.disconnect();\n",
              "        }}\n",
              "}});\n",
              "\n",
              "// Listen for the removal of the full notebook cells\n",
              "var notebookContainer = gd.closest('#notebook-container');\n",
              "if (notebookContainer) {{\n",
              "    x.observe(notebookContainer, {childList: true});\n",
              "}}\n",
              "\n",
              "// Listen for the clearing of the current output cell\n",
              "var outputEl = gd.closest('.output');\n",
              "if (outputEl) {{\n",
              "    x.observe(outputEl, {childList: true});\n",
              "}}\n",
              "\n",
              "                        })                };                            </script>        </div>\n",
              "</body>\n",
              "</html>"
            ]
          },
          "metadata": {}
        }
      ],
      "source": [
        "#Gerando gráfico de barras\n",
        "fig = px.bar(casa, x='time', y='gols_mandante',\n",
        "             color='gols_mandante',color_continuous_scale='greens', \n",
        "             text_auto='.3s',\n",
        "             labels = {'time':\"Time\",\n",
        "                        'gols_mandante': 'Gols'}\n",
        "             )\n",
        "#Gerando números no topo das barras\n",
        "fig.update_traces(textfont_size=12, textangle=0, \n",
        "                  textposition=\"outside\", \n",
        "                  cliponaxis=False)\n",
        "\n",
        "#Alterando títulos do gráfico e dos eixos\n",
        "fig.update_layout(plot_bgcolor = '#FFFFFF',\n",
        "                  title_text = \"<b>Gols marcados em casa desde 2003</b>\",\n",
        "                  title_x = 0.5,\n",
        "                  title_font_family=\"Lato\",\n",
        "                  title_font_color=\"#94001A\",\n",
        "                  xaxis={\"title\":\"\"},\n",
        "                  yaxis={\"title\":\"<b>Gols\"}\n",
        "                  )\n",
        "#Formatando o eixo X\n",
        "fig.update_xaxes(linecolor = \"#ffffff\")\n",
        "#Formatando o eixo Y\n",
        "fig.update_yaxes(linecolor = \"#444\",title_font_color=\"#94001A\",title_font_family=\"Nunito\",title_font_size=18)\n",
        "#Retirando legenda de cores\n",
        "fig.update(layout_coloraxis_showscale=False)\n",
        "#Inclinando legendas do eixo X\n",
        "fig.update_xaxes(tickangle=45)\n",
        "\n",
        "fig.show()"
      ]
    },
    {
      "cell_type": "code",
      "execution_count": 27,
      "metadata": {
        "colab": {
          "base_uri": "https://localhost:8080/",
          "height": 542
        },
        "id": "R0fvKC_fvcJc",
        "outputId": "3ddffbd9-8963-40ce-f975-358d49bb8c11"
      },
      "outputs": [
        {
          "output_type": "display_data",
          "data": {
            "text/html": [
              "<html>\n",
              "<head><meta charset=\"utf-8\" /></head>\n",
              "<body>\n",
              "    <div>            <script src=\"https://cdnjs.cloudflare.com/ajax/libs/mathjax/2.7.5/MathJax.js?config=TeX-AMS-MML_SVG\"></script><script type=\"text/javascript\">if (window.MathJax) {MathJax.Hub.Config({SVG: {font: \"STIX-Web\"}});}</script>                <script type=\"text/javascript\">window.PlotlyConfig = {MathJaxConfig: 'local'};</script>\n",
              "        <script src=\"https://cdn.plot.ly/plotly-2.8.3.min.js\"></script>                <div id=\"9481a8f8-142f-4722-b92a-01409cf26e4a\" class=\"plotly-graph-div\" style=\"height:525px; width:100%;\"></div>            <script type=\"text/javascript\">                                    window.PLOTLYENV=window.PLOTLYENV || {};                                    if (document.getElementById(\"9481a8f8-142f-4722-b92a-01409cf26e4a\")) {                    Plotly.newPlot(                        \"9481a8f8-142f-4722-b92a-01409cf26e4a\",                        [{\"alignmentgroup\":\"True\",\"hovertemplate\":\"Time=%{x}<br>Gols=%{marker.color}<extra></extra>\",\"legendgroup\":\"\",\"marker\":{\"color\":[7.0,7.0,9.0,12.0,16.0,17.0,22.0,36.0,37.0,38.0,47.0,52.0,55.0,66.0,76.0,82.0,88.0,93.0,93.0,97.0,98.0,102.0,112.0,147.0,153.0,161.0,176.0,206.0,242.0,263.0,293.0,295.0,316.0,329.0,344.0,345.0,351.0,369.0,375.0,382.0,391.0,402.0,420.0],\"coloraxis\":\"coloraxis\",\"pattern\":{\"shape\":\"\"}},\"name\":\"\",\"offsetgroup\":\"\",\"orientation\":\"v\",\"showlegend\":false,\"textposition\":\"outside\",\"texttemplate\":\"%{y:.3s}\",\"x\":[\"CSA\",\"Joinville-SC\",\"Ipatinga FC\",\"Am\\u00e9rica-RN\",\"RB Bragantino\",\"Santo Andr\\u00e9\",\"Brasiliense-DF\",\"Am\\u00e9rica-MG\",\"Santa Cruz\",\"Barueri\",\"Portuguesa\",\"Guarani\",\"Paysandu SC\",\"Crici\\u00fama EC\",\"S\\u00e3o Caetano\",\"Fortaleza\",\"Cear\\u00e1 SC\",\"N\\u00e1utico\",\"Ava\\u00ed FC\",\"Atl\\u00e9tico-GO\",\"Chapecoense\",\"Juventude\",\"Paran\\u00e1\",\"Ponte Preta\",\"EC Bahia\",\"Sport Recife\",\"EC Vit\\u00f3ria\",\"Figueirense FC\",\"Coritiba FC\",\"Goi\\u00e1s EC\",\"Vasco da Gama\",\"Botafogo\",\"Athletico-PR\",\"Gr\\u00eamio\",\"Palmeiras\",\"Internacional\",\"Corinthians\",\"Cruzeiro\",\"Atl\\u00e9tico-MG\",\"Flamengo\",\"Santos FC\",\"Fluminense\",\"S\\u00e3o Paulo\"],\"xaxis\":\"x\",\"y\":[7.0,7.0,9.0,12.0,16.0,17.0,22.0,36.0,37.0,38.0,47.0,52.0,55.0,66.0,76.0,82.0,88.0,93.0,93.0,97.0,98.0,102.0,112.0,147.0,153.0,161.0,176.0,206.0,242.0,263.0,293.0,295.0,316.0,329.0,344.0,345.0,351.0,369.0,375.0,382.0,391.0,402.0,420.0],\"yaxis\":\"y\",\"type\":\"bar\",\"textfont\":{\"size\":14},\"cliponaxis\":false,\"textangle\":0}],                        {\"template\":{\"data\":{\"bar\":[{\"error_x\":{\"color\":\"#2a3f5f\"},\"error_y\":{\"color\":\"#2a3f5f\"},\"marker\":{\"line\":{\"color\":\"#E5ECF6\",\"width\":0.5},\"pattern\":{\"fillmode\":\"overlay\",\"size\":10,\"solidity\":0.2}},\"type\":\"bar\"}],\"barpolar\":[{\"marker\":{\"line\":{\"color\":\"#E5ECF6\",\"width\":0.5},\"pattern\":{\"fillmode\":\"overlay\",\"size\":10,\"solidity\":0.2}},\"type\":\"barpolar\"}],\"carpet\":[{\"aaxis\":{\"endlinecolor\":\"#2a3f5f\",\"gridcolor\":\"white\",\"linecolor\":\"white\",\"minorgridcolor\":\"white\",\"startlinecolor\":\"#2a3f5f\"},\"baxis\":{\"endlinecolor\":\"#2a3f5f\",\"gridcolor\":\"white\",\"linecolor\":\"white\",\"minorgridcolor\":\"white\",\"startlinecolor\":\"#2a3f5f\"},\"type\":\"carpet\"}],\"choropleth\":[{\"colorbar\":{\"outlinewidth\":0,\"ticks\":\"\"},\"type\":\"choropleth\"}],\"contour\":[{\"colorbar\":{\"outlinewidth\":0,\"ticks\":\"\"},\"colorscale\":[[0.0,\"#0d0887\"],[0.1111111111111111,\"#46039f\"],[0.2222222222222222,\"#7201a8\"],[0.3333333333333333,\"#9c179e\"],[0.4444444444444444,\"#bd3786\"],[0.5555555555555556,\"#d8576b\"],[0.6666666666666666,\"#ed7953\"],[0.7777777777777778,\"#fb9f3a\"],[0.8888888888888888,\"#fdca26\"],[1.0,\"#f0f921\"]],\"type\":\"contour\"}],\"contourcarpet\":[{\"colorbar\":{\"outlinewidth\":0,\"ticks\":\"\"},\"type\":\"contourcarpet\"}],\"heatmap\":[{\"colorbar\":{\"outlinewidth\":0,\"ticks\":\"\"},\"colorscale\":[[0.0,\"#0d0887\"],[0.1111111111111111,\"#46039f\"],[0.2222222222222222,\"#7201a8\"],[0.3333333333333333,\"#9c179e\"],[0.4444444444444444,\"#bd3786\"],[0.5555555555555556,\"#d8576b\"],[0.6666666666666666,\"#ed7953\"],[0.7777777777777778,\"#fb9f3a\"],[0.8888888888888888,\"#fdca26\"],[1.0,\"#f0f921\"]],\"type\":\"heatmap\"}],\"heatmapgl\":[{\"colorbar\":{\"outlinewidth\":0,\"ticks\":\"\"},\"colorscale\":[[0.0,\"#0d0887\"],[0.1111111111111111,\"#46039f\"],[0.2222222222222222,\"#7201a8\"],[0.3333333333333333,\"#9c179e\"],[0.4444444444444444,\"#bd3786\"],[0.5555555555555556,\"#d8576b\"],[0.6666666666666666,\"#ed7953\"],[0.7777777777777778,\"#fb9f3a\"],[0.8888888888888888,\"#fdca26\"],[1.0,\"#f0f921\"]],\"type\":\"heatmapgl\"}],\"histogram\":[{\"marker\":{\"pattern\":{\"fillmode\":\"overlay\",\"size\":10,\"solidity\":0.2}},\"type\":\"histogram\"}],\"histogram2d\":[{\"colorbar\":{\"outlinewidth\":0,\"ticks\":\"\"},\"colorscale\":[[0.0,\"#0d0887\"],[0.1111111111111111,\"#46039f\"],[0.2222222222222222,\"#7201a8\"],[0.3333333333333333,\"#9c179e\"],[0.4444444444444444,\"#bd3786\"],[0.5555555555555556,\"#d8576b\"],[0.6666666666666666,\"#ed7953\"],[0.7777777777777778,\"#fb9f3a\"],[0.8888888888888888,\"#fdca26\"],[1.0,\"#f0f921\"]],\"type\":\"histogram2d\"}],\"histogram2dcontour\":[{\"colorbar\":{\"outlinewidth\":0,\"ticks\":\"\"},\"colorscale\":[[0.0,\"#0d0887\"],[0.1111111111111111,\"#46039f\"],[0.2222222222222222,\"#7201a8\"],[0.3333333333333333,\"#9c179e\"],[0.4444444444444444,\"#bd3786\"],[0.5555555555555556,\"#d8576b\"],[0.6666666666666666,\"#ed7953\"],[0.7777777777777778,\"#fb9f3a\"],[0.8888888888888888,\"#fdca26\"],[1.0,\"#f0f921\"]],\"type\":\"histogram2dcontour\"}],\"mesh3d\":[{\"colorbar\":{\"outlinewidth\":0,\"ticks\":\"\"},\"type\":\"mesh3d\"}],\"parcoords\":[{\"line\":{\"colorbar\":{\"outlinewidth\":0,\"ticks\":\"\"}},\"type\":\"parcoords\"}],\"pie\":[{\"automargin\":true,\"type\":\"pie\"}],\"scatter\":[{\"marker\":{\"colorbar\":{\"outlinewidth\":0,\"ticks\":\"\"}},\"type\":\"scatter\"}],\"scatter3d\":[{\"line\":{\"colorbar\":{\"outlinewidth\":0,\"ticks\":\"\"}},\"marker\":{\"colorbar\":{\"outlinewidth\":0,\"ticks\":\"\"}},\"type\":\"scatter3d\"}],\"scattercarpet\":[{\"marker\":{\"colorbar\":{\"outlinewidth\":0,\"ticks\":\"\"}},\"type\":\"scattercarpet\"}],\"scattergeo\":[{\"marker\":{\"colorbar\":{\"outlinewidth\":0,\"ticks\":\"\"}},\"type\":\"scattergeo\"}],\"scattergl\":[{\"marker\":{\"colorbar\":{\"outlinewidth\":0,\"ticks\":\"\"}},\"type\":\"scattergl\"}],\"scattermapbox\":[{\"marker\":{\"colorbar\":{\"outlinewidth\":0,\"ticks\":\"\"}},\"type\":\"scattermapbox\"}],\"scatterpolar\":[{\"marker\":{\"colorbar\":{\"outlinewidth\":0,\"ticks\":\"\"}},\"type\":\"scatterpolar\"}],\"scatterpolargl\":[{\"marker\":{\"colorbar\":{\"outlinewidth\":0,\"ticks\":\"\"}},\"type\":\"scatterpolargl\"}],\"scatterternary\":[{\"marker\":{\"colorbar\":{\"outlinewidth\":0,\"ticks\":\"\"}},\"type\":\"scatterternary\"}],\"surface\":[{\"colorbar\":{\"outlinewidth\":0,\"ticks\":\"\"},\"colorscale\":[[0.0,\"#0d0887\"],[0.1111111111111111,\"#46039f\"],[0.2222222222222222,\"#7201a8\"],[0.3333333333333333,\"#9c179e\"],[0.4444444444444444,\"#bd3786\"],[0.5555555555555556,\"#d8576b\"],[0.6666666666666666,\"#ed7953\"],[0.7777777777777778,\"#fb9f3a\"],[0.8888888888888888,\"#fdca26\"],[1.0,\"#f0f921\"]],\"type\":\"surface\"}],\"table\":[{\"cells\":{\"fill\":{\"color\":\"#EBF0F8\"},\"line\":{\"color\":\"white\"}},\"header\":{\"fill\":{\"color\":\"#C8D4E3\"},\"line\":{\"color\":\"white\"}},\"type\":\"table\"}]},\"layout\":{\"annotationdefaults\":{\"arrowcolor\":\"#2a3f5f\",\"arrowhead\":0,\"arrowwidth\":1},\"autotypenumbers\":\"strict\",\"coloraxis\":{\"colorbar\":{\"outlinewidth\":0,\"ticks\":\"\"}},\"colorscale\":{\"diverging\":[[0,\"#8e0152\"],[0.1,\"#c51b7d\"],[0.2,\"#de77ae\"],[0.3,\"#f1b6da\"],[0.4,\"#fde0ef\"],[0.5,\"#f7f7f7\"],[0.6,\"#e6f5d0\"],[0.7,\"#b8e186\"],[0.8,\"#7fbc41\"],[0.9,\"#4d9221\"],[1,\"#276419\"]],\"sequential\":[[0.0,\"#0d0887\"],[0.1111111111111111,\"#46039f\"],[0.2222222222222222,\"#7201a8\"],[0.3333333333333333,\"#9c179e\"],[0.4444444444444444,\"#bd3786\"],[0.5555555555555556,\"#d8576b\"],[0.6666666666666666,\"#ed7953\"],[0.7777777777777778,\"#fb9f3a\"],[0.8888888888888888,\"#fdca26\"],[1.0,\"#f0f921\"]],\"sequentialminus\":[[0.0,\"#0d0887\"],[0.1111111111111111,\"#46039f\"],[0.2222222222222222,\"#7201a8\"],[0.3333333333333333,\"#9c179e\"],[0.4444444444444444,\"#bd3786\"],[0.5555555555555556,\"#d8576b\"],[0.6666666666666666,\"#ed7953\"],[0.7777777777777778,\"#fb9f3a\"],[0.8888888888888888,\"#fdca26\"],[1.0,\"#f0f921\"]]},\"colorway\":[\"#636efa\",\"#EF553B\",\"#00cc96\",\"#ab63fa\",\"#FFA15A\",\"#19d3f3\",\"#FF6692\",\"#B6E880\",\"#FF97FF\",\"#FECB52\"],\"font\":{\"color\":\"#2a3f5f\"},\"geo\":{\"bgcolor\":\"white\",\"lakecolor\":\"white\",\"landcolor\":\"#E5ECF6\",\"showlakes\":true,\"showland\":true,\"subunitcolor\":\"white\"},\"hoverlabel\":{\"align\":\"left\"},\"hovermode\":\"closest\",\"mapbox\":{\"style\":\"light\"},\"paper_bgcolor\":\"white\",\"plot_bgcolor\":\"#E5ECF6\",\"polar\":{\"angularaxis\":{\"gridcolor\":\"white\",\"linecolor\":\"white\",\"ticks\":\"\"},\"bgcolor\":\"#E5ECF6\",\"radialaxis\":{\"gridcolor\":\"white\",\"linecolor\":\"white\",\"ticks\":\"\"}},\"scene\":{\"xaxis\":{\"backgroundcolor\":\"#E5ECF6\",\"gridcolor\":\"white\",\"gridwidth\":2,\"linecolor\":\"white\",\"showbackground\":true,\"ticks\":\"\",\"zerolinecolor\":\"white\"},\"yaxis\":{\"backgroundcolor\":\"#E5ECF6\",\"gridcolor\":\"white\",\"gridwidth\":2,\"linecolor\":\"white\",\"showbackground\":true,\"ticks\":\"\",\"zerolinecolor\":\"white\"},\"zaxis\":{\"backgroundcolor\":\"#E5ECF6\",\"gridcolor\":\"white\",\"gridwidth\":2,\"linecolor\":\"white\",\"showbackground\":true,\"ticks\":\"\",\"zerolinecolor\":\"white\"}},\"shapedefaults\":{\"line\":{\"color\":\"#2a3f5f\"}},\"ternary\":{\"aaxis\":{\"gridcolor\":\"white\",\"linecolor\":\"white\",\"ticks\":\"\"},\"baxis\":{\"gridcolor\":\"white\",\"linecolor\":\"white\",\"ticks\":\"\"},\"bgcolor\":\"#E5ECF6\",\"caxis\":{\"gridcolor\":\"white\",\"linecolor\":\"white\",\"ticks\":\"\"}},\"title\":{\"x\":0.05},\"xaxis\":{\"automargin\":true,\"gridcolor\":\"white\",\"linecolor\":\"white\",\"ticks\":\"\",\"title\":{\"standoff\":15},\"zerolinecolor\":\"white\",\"zerolinewidth\":2},\"yaxis\":{\"automargin\":true,\"gridcolor\":\"white\",\"linecolor\":\"white\",\"ticks\":\"\",\"title\":{\"standoff\":15},\"zerolinecolor\":\"white\",\"zerolinewidth\":2}}},\"xaxis\":{\"anchor\":\"y\",\"domain\":[0.0,1.0],\"title\":{\"text\":\"\"},\"linecolor\":\"#444\",\"tickangle\":45},\"yaxis\":{\"anchor\":\"x\",\"domain\":[0.0,1.0],\"title\":{\"text\":\"<b>Gols\",\"font\":{\"color\":\"#94001A\",\"family\":\"Nunito\",\"size\":18}},\"linecolor\":\"#444\"},\"coloraxis\":{\"colorbar\":{\"title\":{\"text\":\"Gols\"}},\"colorscale\":[[0.0,\"rgb(247,252,245)\"],[0.125,\"rgb(229,245,224)\"],[0.25,\"rgb(199,233,192)\"],[0.375,\"rgb(161,217,155)\"],[0.5,\"rgb(116,196,118)\"],[0.625,\"rgb(65,171,93)\"],[0.75,\"rgb(35,139,69)\"],[0.875,\"rgb(0,109,44)\"],[1.0,\"rgb(0,68,27)\"]],\"showscale\":false},\"legend\":{\"tracegroupgap\":0},\"margin\":{\"t\":60},\"barmode\":\"relative\",\"title\":{\"font\":{\"family\":\"Lato\",\"color\":\"#94001A\"},\"text\":\"<b>Gols marcados em fora de casa desde 2003</b>\",\"x\":0.5},\"plot_bgcolor\":\"#FFFFFF\"},                        {\"responsive\": true}                    ).then(function(){\n",
              "                            \n",
              "var gd = document.getElementById('9481a8f8-142f-4722-b92a-01409cf26e4a');\n",
              "var x = new MutationObserver(function (mutations, observer) {{\n",
              "        var display = window.getComputedStyle(gd).display;\n",
              "        if (!display || display === 'none') {{\n",
              "            console.log([gd, 'removed!']);\n",
              "            Plotly.purge(gd);\n",
              "            observer.disconnect();\n",
              "        }}\n",
              "}});\n",
              "\n",
              "// Listen for the removal of the full notebook cells\n",
              "var notebookContainer = gd.closest('#notebook-container');\n",
              "if (notebookContainer) {{\n",
              "    x.observe(notebookContainer, {childList: true});\n",
              "}}\n",
              "\n",
              "// Listen for the clearing of the current output cell\n",
              "var outputEl = gd.closest('.output');\n",
              "if (outputEl) {{\n",
              "    x.observe(outputEl, {childList: true});\n",
              "}}\n",
              "\n",
              "                        })                };                            </script>        </div>\n",
              "</body>\n",
              "</html>"
            ]
          },
          "metadata": {}
        }
      ],
      "source": [
        "#Gerando gráfico de barras\n",
        "fig = px.bar(fora, x='time', y='gols_fora',\n",
        "             color='gols_fora',color_continuous_scale='greens', \n",
        "             text_auto='.3s',\n",
        "             labels = {'time':\"Time\",\n",
        "                        'gols_fora': 'Gols'}\n",
        "             )\n",
        "\n",
        "#Alterando títulos do gráfico e dos eixos                 \n",
        "fig.update_layout(plot_bgcolor = '#FFFFFF',\n",
        "                  title_text = \"<b>Gols marcados em fora de casa desde 2003</b>\",\n",
        "                  title_x = 0.5,\n",
        "                  title_font_family=\"Lato\",\n",
        "                  title_font_color=\"#94001A\",\n",
        "                  xaxis={\"title\":\"\"},\n",
        "                  yaxis={\"title\":\"<b>Gols\"}\n",
        "                  )\n",
        "\n",
        "#Gerando números no topo das barras\n",
        "fig.update_traces(textfont_size=14, textangle=0, \n",
        "                  textposition=\"outside\",\n",
        "                  cliponaxis=False)\n",
        "\n",
        "#Formatando o eixo X\n",
        "fig.update_xaxes(linecolor = \"#444\")\n",
        "#Formatando o eixo Y\n",
        "fig.update_yaxes(linecolor = \"#444\",title_font_color=\"#94001A\",title_font_family=\"Nunito\",title_font_size=18)\n",
        "#Retirando legenda de cores\n",
        "fig.update(layout_coloraxis_showscale=False)\n",
        "#Inclinando legendas do eixo X\n",
        "fig.update_xaxes(tickangle=45)\n",
        "\n",
        "fig.show()"
      ]
    },
    {
      "cell_type": "code",
      "source": [
        "#Função para gerar pontuação\n",
        "def pontos (df):\n",
        "  if df['gols_man'] > df['gols_vis']:\n",
        "    df['pontos_man'] = 3\n",
        "    return df['pontos_man']\n",
        "  if df['gols_man'] < df['gols_vis']:\n",
        "    df['pontos_man'] = 0\n",
        "    return df['pontos_man']\n",
        "  else:\n",
        "    df['pontos_man'] = 1\n",
        "    return df['pontos_man']\n",
        "\n",
        "def pontos_visitante (df):\n",
        "  if df['gols_man'] > df['gols_vis']:\n",
        "    df['pontos_vis'] = 0\n",
        "    return df['pontos_vis']\n",
        "  if df['gols_man'] < df['gols_vis']:\n",
        "    df['pontos_vis'] = 3\n",
        "    return df['pontos_vis']\n",
        "  else:\n",
        "    df['pontos_vis'] = 1\n",
        "    return df['pontos_vis']"
      ],
      "metadata": {
        "id": "QUq_g14omQlE"
      },
      "execution_count": 28,
      "outputs": []
    },
    {
      "cell_type": "code",
      "source": [
        "#Aplicando função de pontuação\n",
        "df ['pontos_man'] = df.apply(pontos, axis = 1)\n",
        "df ['pontos_vis'] = df.apply(pontos_visitante, axis = 1)"
      ],
      "metadata": {
        "id": "f84Pua3SmXqW"
      },
      "execution_count": 29,
      "outputs": []
    },
    {
      "cell_type": "code",
      "execution_count": 30,
      "metadata": {
        "id": "l-q-g1QlNzJ9"
      },
      "outputs": [],
      "source": [
        "#Somando número de pontos de mandantes e visitantes\n",
        "pontos_man = df['pontos_man'].sum()\n",
        "pontos_vis = df['pontos_vis'].sum()"
      ]
    },
    {
      "cell_type": "code",
      "execution_count": 31,
      "metadata": {
        "colab": {
          "base_uri": "https://localhost:8080/"
        },
        "id": "ge0nGcRDEasD",
        "outputId": "38be75e2-de9e-4084-f8a6-2cffc79b605a"
      },
      "outputs": [
        {
          "output_type": "execute_result",
          "data": {
            "text/plain": [
              "3    3522\n",
              "1    1856\n",
              "0    1652\n",
              "Name: pontos_man, dtype: int64"
            ]
          },
          "metadata": {},
          "execution_count": 31
        }
      ],
      "source": [
        "#quantidade de vitorias, empates e derrotas de mandantes\n",
        "df['pontos_man'].value_counts()"
      ]
    },
    {
      "cell_type": "code",
      "execution_count": 32,
      "metadata": {
        "colab": {
          "base_uri": "https://localhost:8080/"
        },
        "id": "mXVit9g3KOVw",
        "outputId": "f6f19493-cdcf-4739-c5d8-fbe4fad8bc74"
      },
      "outputs": [
        {
          "output_type": "execute_result",
          "data": {
            "text/plain": [
              "7030"
            ]
          },
          "metadata": {},
          "execution_count": 32
        }
      ],
      "source": [
        "#quantidade de jogos disputados\n",
        "df['pontos_man'].value_counts().sum()"
      ]
    },
    {
      "cell_type": "code",
      "execution_count": 33,
      "metadata": {
        "colab": {
          "base_uri": "https://localhost:8080/",
          "height": 268
        },
        "id": "x9Km76KMExBG",
        "outputId": "fd937dbf-488b-4b04-ad5c-d4db25e2eb25"
      },
      "outputs": [
        {
          "output_type": "display_data",
          "data": {
            "text/plain": [
              "<Waffle size 432x288 with 1 Axes>"
            ],
            "image/png": "[encoded data removed]"
          },
          "metadata": {
            "needs_background": "light"
          }
        }
      ],
      "source": [
        "#Dados para o gráfico\n",
        "data = {\"Pontos mandante\": pontos_man, \"Pontos visitante\": pontos_vis}\n",
        "#Gerando gráfico Waffle\n",
        "fig = plt.figure(\n",
        "    FigureClass=Waffle,\n",
        "    rows=5,\n",
        "    columns=10,\n",
        "    values=data,\n",
        "    legend={'loc': 'lower left', 'bbox_to_anchor': (0.15, -0.2),'ncol': len(data),'framealpha': 0},\n",
        "    vertical=True,\n",
        "    starting_location='NW',\n",
        "    icons = \"futbol\",\n",
        "    icon_style = \"regular\",\n",
        "    colors = ['#008F4A','#DB1A00']\n",
        ")\n",
        "plt.show()"
      ]
    },
    {
      "cell_type": "code",
      "execution_count": 34,
      "metadata": {
        "id": "jofFK73Nsq1C"
      },
      "outputs": [],
      "source": [
        "#Função para pegar dados dos times campeões\n",
        "def campeao (time,ano):\n",
        "  saida = df.loc[((df['time_man'] == time) | (df['time_vis'] == time)) & (df['ano_campeonato'] == ano)]\n",
        "  return saida"
      ]
    },
    {
      "cell_type": "code",
      "execution_count": 35,
      "metadata": {
        "id": "USZxEbyttXzV"
      },
      "outputs": [],
      "source": [
        "#Função para calcular saldo\n",
        "def saldo (df,time):\n",
        "  saldo = (df['gols_man'].loc[(df['time_man'] == time)].sum()) +(df['gols_vis'].loc[(df['time_vis'] == time)].sum()) - (df['gols_man'].loc[(df['time_vis'] == time)].sum()) -(df['gols_vis'].loc[(df['time_man'] == time)].sum())\n",
        "  return saldo"
      ]
    },
    {
      "cell_type": "code",
      "execution_count": 36,
      "metadata": {
        "id": "_XSlWoYSs4uK"
      },
      "outputs": [],
      "source": [
        "#Aplicando função campeão\n",
        "cru2003 = campeao (\"Cruzeiro\", 2003)\n",
        "san2004 = campeao(\"Santos FC\",2004)\n",
        "cor2005 = campeao (\"Corinthians\", 2005)\n",
        "sp2006 = campeao(\"São Paulo\", 2006)\n",
        "sp2007 = campeao (\"São Paulo\", 2007)\n",
        "sp2008 = campeao (\"São Paulo\", 2008)\n",
        "fla2009 = campeao (\"Flamengo\", 2009)\n",
        "flu2010 = campeao (\"Fluminense\", 2010)\n",
        "cor2011 = campeao (\"Corinthians\", 2011)\n",
        "flu2012 = campeao (\"Fluminense\", 2012)\n",
        "cru2013 = campeao (\"Cruzeiro\", 2013)\n",
        "cru2014 = campeao (\"Cruzeiro\", 2014)\n",
        "cor2015 = campeao (\"Corinthians\", 2015)\n",
        "pal2016 = campeao (\"Palmeiras\", 2016)\n",
        "cor2017 = campeao (\"Corinthians\", 2017)\n",
        "pal2018 = campeao (\"Palmeiras\", 2018)\n",
        "fla2019 = campeao (\"Flamengo\", 2019)\n",
        "fla2020 = campeao (\"Flamengo\", 2020)\n"
      ]
    },
    {
      "cell_type": "code",
      "execution_count": 37,
      "metadata": {
        "id": "m-z_gQP1vcjj"
      },
      "outputs": [],
      "source": [
        "#Aplicando função saldo\n",
        "saldo2003 = saldo(cru2003, \"Cruzeiro\")\n",
        "saldo2004 = saldo(san2004,\"Santos FC\")\n",
        "saldo2005 = saldo(cor2005, \"Corinthians\")\n",
        "saldo2006 = saldo(sp2006, \"São Paulo\")\n",
        "saldo2007 = saldo(sp2007, \"São Paulo\")\n",
        "saldo2008 = saldo(sp2008, \"São Paulo\")\n",
        "saldo2009 = saldo(fla2009, \"Flamengo\")\n",
        "saldo2010 = saldo(flu2010, \"Fluminense\")\n",
        "saldo2011 = saldo(cor2011, \"Corinthians\")\n",
        "saldo2012 = saldo(flu2012, \"Fluminense\")\n",
        "saldo2013 = saldo(cru2013, \"Cruzeiro\")\n",
        "saldo2014 = saldo(cru2014, \"Cruzeiro\")\n",
        "saldo2015 = saldo(cor2015, \"Corinthians\")\n",
        "saldo2016 = saldo(pal2016, \"Palmeiras\")\n",
        "saldo2017 = saldo(cor2017, \"Corinthians\")\n",
        "saldo2018 = saldo(pal2018, \"Palmeiras\")\n",
        "saldo2019 = saldo(fla2019, \"Flamengo\")\n",
        "saldo2020 = saldo(fla2020, \"Flamengo\")"
      ]
    },
    {
      "cell_type": "code",
      "execution_count": 38,
      "metadata": {
        "id": "qQANb_U-yvZX"
      },
      "outputs": [],
      "source": [
        "#Gerando lista com os anos de campeonato\n",
        "anos = [2003,2004,2005,2006,2007,2008,2009,2010,2011,2012,2013,2014,2015,2016,2017,2018,2019,2020]\n",
        "\n",
        "#Transformando saldos em DataFrame\n",
        "df_saldo = pd.DataFrame(data = [saldo2003,saldo2004,saldo2005,saldo2006,saldo2007,saldo2008,saldo2009,saldo2010,saldo2011,saldo2012,saldo2013,saldo2014,saldo2015,saldo2016,saldo2017,saldo2018,saldo2019,saldo2020], columns = [\"saldo\"])\n",
        "\n",
        "#Gerando lista com o nome dos campeões\n",
        "campeoes = [\"Cruzeiro\",\"Santos\",\"Corinthians\",'São Paulo','São Paulo','São Paulo','Flamengo','Fluminense','Corinthians','Fluminense','Cruzeiro','Cruzeiro','Corinthians','Palmeiras','Corinthians','Palmeiras','Flamengo','Flamengo']\n",
        "\n",
        "#Adicionando dados ao DataFrame de saldos e reordenando as colunas\n",
        "df_saldo['times'] = campeoes\n",
        "df_saldo['ano'] = anos\n",
        "df_saldo = df_saldo[['times','ano','saldo']]"
      ]
    },
    {
      "cell_type": "code",
      "execution_count": 39,
      "metadata": {
        "colab": {
          "base_uri": "https://localhost:8080/",
          "height": 542
        },
        "id": "tTHqsRQcW2LW",
        "outputId": "727b2caf-0b0b-441c-ccd4-1166ac156cc0"
      },
      "outputs": [
        {
          "output_type": "display_data",
          "data": {
            "text/html": [
              "<html>\n",
              "<head><meta charset=\"utf-8\" /></head>\n",
              "<body>\n",
              "    <div>            <script src=\"https://cdnjs.cloudflare.com/ajax/libs/mathjax/2.7.5/MathJax.js?config=TeX-AMS-MML_SVG\"></script><script type=\"text/javascript\">if (window.MathJax) {MathJax.Hub.Config({SVG: {font: \"STIX-Web\"}});}</script>                <script type=\"text/javascript\">window.PlotlyConfig = {MathJaxConfig: 'local'};</script>\n",
              "        <script src=\"https://cdn.plot.ly/plotly-2.8.3.min.js\"></script>                <div id=\"0bc19b08-3205-4ef0-8711-367a36053b6a\" class=\"plotly-graph-div\" style=\"height:525px; width:100%;\"></div>            <script type=\"text/javascript\">                                    window.PLOTLYENV=window.PLOTLYENV || {};                                    if (document.getElementById(\"0bc19b08-3205-4ef0-8711-367a36053b6a\")) {                    Plotly.newPlot(                        \"0bc19b08-3205-4ef0-8711-367a36053b6a\",                        [{\"alignmentgroup\":\"True\",\"customdata\":[[\"Cruzeiro\"],[\"Santos\"],[\"Corinthians\"],[\"S\\u00e3o Paulo\"],[\"S\\u00e3o Paulo\"],[\"S\\u00e3o Paulo\"],[\"Flamengo\"],[\"Fluminense\"],[\"Corinthians\"],[\"Fluminense\"],[\"Cruzeiro\"],[\"Cruzeiro\"],[\"Corinthians\"],[\"Palmeiras\"],[\"Corinthians\"],[\"Palmeiras\"],[\"Flamengo\"],[\"Flamengo\"]],\"hovertemplate\":\"Time=%{customdata[0]}<extra></extra>\",\"legendgroup\":\"\",\"marker\":{\"color\":\"#008F4A\",\"pattern\":{\"shape\":\"\"}},\"name\":\"\",\"offsetgroup\":\"\",\"orientation\":\"v\",\"showlegend\":false,\"textposition\":\"outside\",\"texttemplate\":\"%{y:.2s}\",\"x\":[2003,2004,2005,2006,2007,2008,2009,2010,2011,2012,2013,2014,2015,2016,2017,2018,2019,2020],\"xaxis\":\"x\",\"y\":[36.0,30.0,28.0,34.0,36.0,30.0,14.0,26.0,17.0,28.0,40.0,29.0,40.0,30.0,20.0,38.0,49.0,20.0],\"yaxis\":\"y\",\"type\":\"bar\",\"textfont\":{\"size\":12},\"cliponaxis\":false,\"textangle\":0}],                        {\"template\":{\"data\":{\"bar\":[{\"error_x\":{\"color\":\"#2a3f5f\"},\"error_y\":{\"color\":\"#2a3f5f\"},\"marker\":{\"line\":{\"color\":\"#E5ECF6\",\"width\":0.5},\"pattern\":{\"fillmode\":\"overlay\",\"size\":10,\"solidity\":0.2}},\"type\":\"bar\"}],\"barpolar\":[{\"marker\":{\"line\":{\"color\":\"#E5ECF6\",\"width\":0.5},\"pattern\":{\"fillmode\":\"overlay\",\"size\":10,\"solidity\":0.2}},\"type\":\"barpolar\"}],\"carpet\":[{\"aaxis\":{\"endlinecolor\":\"#2a3f5f\",\"gridcolor\":\"white\",\"linecolor\":\"white\",\"minorgridcolor\":\"white\",\"startlinecolor\":\"#2a3f5f\"},\"baxis\":{\"endlinecolor\":\"#2a3f5f\",\"gridcolor\":\"white\",\"linecolor\":\"white\",\"minorgridcolor\":\"white\",\"startlinecolor\":\"#2a3f5f\"},\"type\":\"carpet\"}],\"choropleth\":[{\"colorbar\":{\"outlinewidth\":0,\"ticks\":\"\"},\"type\":\"choropleth\"}],\"contour\":[{\"colorbar\":{\"outlinewidth\":0,\"ticks\":\"\"},\"colorscale\":[[0.0,\"#0d0887\"],[0.1111111111111111,\"#46039f\"],[0.2222222222222222,\"#7201a8\"],[0.3333333333333333,\"#9c179e\"],[0.4444444444444444,\"#bd3786\"],[0.5555555555555556,\"#d8576b\"],[0.6666666666666666,\"#ed7953\"],[0.7777777777777778,\"#fb9f3a\"],[0.8888888888888888,\"#fdca26\"],[1.0,\"#f0f921\"]],\"type\":\"contour\"}],\"contourcarpet\":[{\"colorbar\":{\"outlinewidth\":0,\"ticks\":\"\"},\"type\":\"contourcarpet\"}],\"heatmap\":[{\"colorbar\":{\"outlinewidth\":0,\"ticks\":\"\"},\"colorscale\":[[0.0,\"#0d0887\"],[0.1111111111111111,\"#46039f\"],[0.2222222222222222,\"#7201a8\"],[0.3333333333333333,\"#9c179e\"],[0.4444444444444444,\"#bd3786\"],[0.5555555555555556,\"#d8576b\"],[0.6666666666666666,\"#ed7953\"],[0.7777777777777778,\"#fb9f3a\"],[0.8888888888888888,\"#fdca26\"],[1.0,\"#f0f921\"]],\"type\":\"heatmap\"}],\"heatmapgl\":[{\"colorbar\":{\"outlinewidth\":0,\"ticks\":\"\"},\"colorscale\":[[0.0,\"#0d0887\"],[0.1111111111111111,\"#46039f\"],[0.2222222222222222,\"#7201a8\"],[0.3333333333333333,\"#9c179e\"],[0.4444444444444444,\"#bd3786\"],[0.5555555555555556,\"#d8576b\"],[0.6666666666666666,\"#ed7953\"],[0.7777777777777778,\"#fb9f3a\"],[0.8888888888888888,\"#fdca26\"],[1.0,\"#f0f921\"]],\"type\":\"heatmapgl\"}],\"histogram\":[{\"marker\":{\"pattern\":{\"fillmode\":\"overlay\",\"size\":10,\"solidity\":0.2}},\"type\":\"histogram\"}],\"histogram2d\":[{\"colorbar\":{\"outlinewidth\":0,\"ticks\":\"\"},\"colorscale\":[[0.0,\"#0d0887\"],[0.1111111111111111,\"#46039f\"],[0.2222222222222222,\"#7201a8\"],[0.3333333333333333,\"#9c179e\"],[0.4444444444444444,\"#bd3786\"],[0.5555555555555556,\"#d8576b\"],[0.6666666666666666,\"#ed7953\"],[0.7777777777777778,\"#fb9f3a\"],[0.8888888888888888,\"#fdca26\"],[1.0,\"#f0f921\"]],\"type\":\"histogram2d\"}],\"histogram2dcontour\":[{\"colorbar\":{\"outlinewidth\":0,\"ticks\":\"\"},\"colorscale\":[[0.0,\"#0d0887\"],[0.1111111111111111,\"#46039f\"],[0.2222222222222222,\"#7201a8\"],[0.3333333333333333,\"#9c179e\"],[0.4444444444444444,\"#bd3786\"],[0.5555555555555556,\"#d8576b\"],[0.6666666666666666,\"#ed7953\"],[0.7777777777777778,\"#fb9f3a\"],[0.8888888888888888,\"#fdca26\"],[1.0,\"#f0f921\"]],\"type\":\"histogram2dcontour\"}],\"mesh3d\":[{\"colorbar\":{\"outlinewidth\":0,\"ticks\":\"\"},\"type\":\"mesh3d\"}],\"parcoords\":[{\"line\":{\"colorbar\":{\"outlinewidth\":0,\"ticks\":\"\"}},\"type\":\"parcoords\"}],\"pie\":[{\"automargin\":true,\"type\":\"pie\"}],\"scatter\":[{\"marker\":{\"colorbar\":{\"outlinewidth\":0,\"ticks\":\"\"}},\"type\":\"scatter\"}],\"scatter3d\":[{\"line\":{\"colorbar\":{\"outlinewidth\":0,\"ticks\":\"\"}},\"marker\":{\"colorbar\":{\"outlinewidth\":0,\"ticks\":\"\"}},\"type\":\"scatter3d\"}],\"scattercarpet\":[{\"marker\":{\"colorbar\":{\"outlinewidth\":0,\"ticks\":\"\"}},\"type\":\"scattercarpet\"}],\"scattergeo\":[{\"marker\":{\"colorbar\":{\"outlinewidth\":0,\"ticks\":\"\"}},\"type\":\"scattergeo\"}],\"scattergl\":[{\"marker\":{\"colorbar\":{\"outlinewidth\":0,\"ticks\":\"\"}},\"type\":\"scattergl\"}],\"scattermapbox\":[{\"marker\":{\"colorbar\":{\"outlinewidth\":0,\"ticks\":\"\"}},\"type\":\"scattermapbox\"}],\"scatterpolar\":[{\"marker\":{\"colorbar\":{\"outlinewidth\":0,\"ticks\":\"\"}},\"type\":\"scatterpolar\"}],\"scatterpolargl\":[{\"marker\":{\"colorbar\":{\"outlinewidth\":0,\"ticks\":\"\"}},\"type\":\"scatterpolargl\"}],\"scatterternary\":[{\"marker\":{\"colorbar\":{\"outlinewidth\":0,\"ticks\":\"\"}},\"type\":\"scatterternary\"}],\"surface\":[{\"colorbar\":{\"outlinewidth\":0,\"ticks\":\"\"},\"colorscale\":[[0.0,\"#0d0887\"],[0.1111111111111111,\"#46039f\"],[0.2222222222222222,\"#7201a8\"],[0.3333333333333333,\"#9c179e\"],[0.4444444444444444,\"#bd3786\"],[0.5555555555555556,\"#d8576b\"],[0.6666666666666666,\"#ed7953\"],[0.7777777777777778,\"#fb9f3a\"],[0.8888888888888888,\"#fdca26\"],[1.0,\"#f0f921\"]],\"type\":\"surface\"}],\"table\":[{\"cells\":{\"fill\":{\"color\":\"#EBF0F8\"},\"line\":{\"color\":\"white\"}},\"header\":{\"fill\":{\"color\":\"#C8D4E3\"},\"line\":{\"color\":\"white\"}},\"type\":\"table\"}]},\"layout\":{\"annotationdefaults\":{\"arrowcolor\":\"#2a3f5f\",\"arrowhead\":0,\"arrowwidth\":1},\"autotypenumbers\":\"strict\",\"coloraxis\":{\"colorbar\":{\"outlinewidth\":0,\"ticks\":\"\"}},\"colorscale\":{\"diverging\":[[0,\"#8e0152\"],[0.1,\"#c51b7d\"],[0.2,\"#de77ae\"],[0.3,\"#f1b6da\"],[0.4,\"#fde0ef\"],[0.5,\"#f7f7f7\"],[0.6,\"#e6f5d0\"],[0.7,\"#b8e186\"],[0.8,\"#7fbc41\"],[0.9,\"#4d9221\"],[1,\"#276419\"]],\"sequential\":[[0.0,\"#0d0887\"],[0.1111111111111111,\"#46039f\"],[0.2222222222222222,\"#7201a8\"],[0.3333333333333333,\"#9c179e\"],[0.4444444444444444,\"#bd3786\"],[0.5555555555555556,\"#d8576b\"],[0.6666666666666666,\"#ed7953\"],[0.7777777777777778,\"#fb9f3a\"],[0.8888888888888888,\"#fdca26\"],[1.0,\"#f0f921\"]],\"sequentialminus\":[[0.0,\"#0d0887\"],[0.1111111111111111,\"#46039f\"],[0.2222222222222222,\"#7201a8\"],[0.3333333333333333,\"#9c179e\"],[0.4444444444444444,\"#bd3786\"],[0.5555555555555556,\"#d8576b\"],[0.6666666666666666,\"#ed7953\"],[0.7777777777777778,\"#fb9f3a\"],[0.8888888888888888,\"#fdca26\"],[1.0,\"#f0f921\"]]},\"colorway\":[\"#636efa\",\"#EF553B\",\"#00cc96\",\"#ab63fa\",\"#FFA15A\",\"#19d3f3\",\"#FF6692\",\"#B6E880\",\"#FF97FF\",\"#FECB52\"],\"font\":{\"color\":\"#2a3f5f\"},\"geo\":{\"bgcolor\":\"white\",\"lakecolor\":\"white\",\"landcolor\":\"#E5ECF6\",\"showlakes\":true,\"showland\":true,\"subunitcolor\":\"white\"},\"hoverlabel\":{\"align\":\"left\"},\"hovermode\":\"closest\",\"mapbox\":{\"style\":\"light\"},\"paper_bgcolor\":\"white\",\"plot_bgcolor\":\"#E5ECF6\",\"polar\":{\"angularaxis\":{\"gridcolor\":\"white\",\"linecolor\":\"white\",\"ticks\":\"\"},\"bgcolor\":\"#E5ECF6\",\"radialaxis\":{\"gridcolor\":\"white\",\"linecolor\":\"white\",\"ticks\":\"\"}},\"scene\":{\"xaxis\":{\"backgroundcolor\":\"#E5ECF6\",\"gridcolor\":\"white\",\"gridwidth\":2,\"linecolor\":\"white\",\"showbackground\":true,\"ticks\":\"\",\"zerolinecolor\":\"white\"},\"yaxis\":{\"backgroundcolor\":\"#E5ECF6\",\"gridcolor\":\"white\",\"gridwidth\":2,\"linecolor\":\"white\",\"showbackground\":true,\"ticks\":\"\",\"zerolinecolor\":\"white\"},\"zaxis\":{\"backgroundcolor\":\"#E5ECF6\",\"gridcolor\":\"white\",\"gridwidth\":2,\"linecolor\":\"white\",\"showbackground\":true,\"ticks\":\"\",\"zerolinecolor\":\"white\"}},\"shapedefaults\":{\"line\":{\"color\":\"#2a3f5f\"}},\"ternary\":{\"aaxis\":{\"gridcolor\":\"white\",\"linecolor\":\"white\",\"ticks\":\"\"},\"baxis\":{\"gridcolor\":\"white\",\"linecolor\":\"white\",\"ticks\":\"\"},\"bgcolor\":\"#E5ECF6\",\"caxis\":{\"gridcolor\":\"white\",\"linecolor\":\"white\",\"ticks\":\"\"}},\"title\":{\"x\":0.05},\"xaxis\":{\"automargin\":true,\"gridcolor\":\"white\",\"linecolor\":\"white\",\"ticks\":\"\",\"title\":{\"standoff\":15},\"zerolinecolor\":\"white\",\"zerolinewidth\":2},\"yaxis\":{\"automargin\":true,\"gridcolor\":\"white\",\"linecolor\":\"white\",\"ticks\":\"\",\"title\":{\"standoff\":15},\"zerolinecolor\":\"white\",\"zerolinewidth\":2}}},\"xaxis\":{\"anchor\":\"y\",\"domain\":[0.0,1.0],\"title\":{\"text\":\"\"}},\"yaxis\":{\"anchor\":\"x\",\"domain\":[0.0,1.0],\"title\":{\"text\":\"<b>Saldo de gols\"},\"linecolor\":\"#444\"},\"legend\":{\"tracegroupgap\":0},\"margin\":{\"t\":60},\"barmode\":\"relative\",\"title\":{\"font\":{\"family\":\"Lato\",\"color\":\"#94001A\"},\"text\":\"<b>Saldo de gols dos campe\\u00f5es de 2003 \\u00e0 2020\",\"x\":0.5},\"plot_bgcolor\":\"rgba(0,0,0,0)\",\"annotations\":[{\"align\":\"center\",\"arrowhead\":2,\"ax\":0.306,\"axref\":\"x domain\",\"ay\":55,\"ayref\":\"y\",\"font\":{\"color\":\"#94001A\",\"family\":\"Lato\",\"size\":14},\"text\":\"<b>Tricampeonato\",\"x\":0.306,\"xref\":\"x domain\",\"y\":33,\"yref\":\"y\"},{\"align\":\"center\",\"arrowhead\":2,\"ax\":0.64,\"axref\":\"x domain\",\"ay\":55,\"ayref\":\"y\",\"font\":{\"color\":\"#94001A\",\"family\":\"Lato\",\"size\":14},\"text\":\"<b>Bicampeonato\",\"x\":0.64,\"xref\":\"x domain\",\"y\":33,\"yref\":\"y\"},{\"align\":\"center\",\"arrowhead\":2,\"ax\":0.9725,\"axref\":\"x domain\",\"ay\":55,\"ayref\":\"y\",\"font\":{\"color\":\"#94001A\",\"family\":\"Lato\",\"size\":14},\"text\":\"<b>Bicampeonato\",\"x\":0.9725,\"xref\":\"x domain\",\"y\":23,\"yref\":\"y\"}]},                        {\"responsive\": true}                    ).then(function(){\n",
              "                            \n",
              "var gd = document.getElementById('0bc19b08-3205-4ef0-8711-367a36053b6a');\n",
              "var x = new MutationObserver(function (mutations, observer) {{\n",
              "        var display = window.getComputedStyle(gd).display;\n",
              "        if (!display || display === 'none') {{\n",
              "            console.log([gd, 'removed!']);\n",
              "            Plotly.purge(gd);\n",
              "            observer.disconnect();\n",
              "        }}\n",
              "}});\n",
              "\n",
              "// Listen for the removal of the full notebook cells\n",
              "var notebookContainer = gd.closest('#notebook-container');\n",
              "if (notebookContainer) {{\n",
              "    x.observe(notebookContainer, {childList: true});\n",
              "}}\n",
              "\n",
              "// Listen for the clearing of the current output cell\n",
              "var outputEl = gd.closest('.output');\n",
              "if (outputEl) {{\n",
              "    x.observe(outputEl, {childList: true});\n",
              "}}\n",
              "\n",
              "                        })                };                            </script>        </div>\n",
              "</body>\n",
              "</html>"
            ]
          },
          "metadata": {}
        }
      ],
      "source": [
        "#Gerando gráfico de barras\n",
        "fig = px.bar(df_saldo, x='ano', y = 'saldo', \n",
        "             text_auto = '.2s',\n",
        "             color_discrete_sequence = ['#008F4A'],\n",
        "             hover_data={'times':True, 'ano':False,'saldo':False},\n",
        "             labels = {'times':\"Time\",})\n",
        "\n",
        "#Alterando títulos do gráfico e dos eixos   \n",
        "fig.update_layout(plot_bgcolor='rgba(0,0,0,0)',\n",
        "                  title_text = \"<b>Saldo de gols dos campeões de 2003 à 2020\",\n",
        "                  title_x = 0.5,\n",
        "                  title_font_family=\"Lato\",\n",
        "                  title_font_color=\"#94001A\",\n",
        "                  xaxis={\"title\":\"\"},\n",
        "                  yaxis={\"title\":\"<b>Saldo de gols\"})\n",
        "\n",
        "#Adicionando anotação de tricampeonato\n",
        "fig.add_annotation(\n",
        "    xref=\"x domain\",\n",
        "    yref=\"y\",\n",
        "    x=0.306,\n",
        "    y=33,\n",
        "    text=\"<b>Tricampeonato\",\n",
        "    axref=\"x domain\",\n",
        "    ayref=\"y\",\n",
        "    ax=0.306,\n",
        "    ay=55,\n",
        "    arrowhead=2,\n",
        "    font=dict(\n",
        "            family=\"Lato\",\n",
        "            size=14,\n",
        "            color=\"#94001A\"\n",
        "            ),\n",
        "        align=\"center\"\n",
        ")\n",
        "\n",
        "#Adicionando anotação de bicampeonato\n",
        "fig.add_annotation(\n",
        "    xref=\"x domain\",\n",
        "    yref=\"y\",\n",
        "    x=0.640,\n",
        "    y=33,\n",
        "    text=\"<b>Bicampeonato\",\n",
        "    axref=\"x domain\",\n",
        "    ayref=\"y\",\n",
        "    ax=0.640,\n",
        "    ay=55,\n",
        "    arrowhead=2,\n",
        "    font=dict(\n",
        "            family=\"Lato\",\n",
        "            size=14,\n",
        "            color=\"#94001A\"\n",
        "            ),\n",
        "        align=\"center\"\n",
        ")\n",
        "\n",
        "#Adicionando anotação de bicampeonato no fim do gráfico\n",
        "fig.add_annotation(\n",
        "    xref=\"x domain\",\n",
        "    yref=\"y\",\n",
        "    x=0.9725,\n",
        "    y=23,\n",
        "    text=\"<b>Bicampeonato\",\n",
        "    axref=\"x domain\",\n",
        "    ayref=\"y\",\n",
        "    ax=0.9725,\n",
        "    ay=55,\n",
        "    arrowhead=2,\n",
        "    font=dict(\n",
        "            family=\"Lato\",\n",
        "            size=14,\n",
        "            color=\"#94001A\"\n",
        "            ),\n",
        "        align=\"center\"\n",
        ")\n",
        "\n",
        "#Gerando números no topo das barras\n",
        "fig.update_traces(textfont_size=12, textangle=0, textposition=\"outside\", cliponaxis=False)\n",
        "#Formatando o eixo Y\n",
        "fig.update_yaxes(linecolor = \"#444\")\n",
        "\n",
        "fig.show()"
      ]
    },
    {
      "cell_type": "code",
      "source": [
        "#Criando DataFrame auxiliar com dados de campeonato depois de 2007\n",
        "df_aux = df.drop(df[df['ano_campeonato'] < 2007].index)"
      ],
      "metadata": {
        "id": "lkRlx1rNmjld"
      },
      "execution_count": 40,
      "outputs": []
    },
    {
      "cell_type": "code",
      "source": [
        "#Criando DataFrame com gols e ano do campeonato\n",
        "resultado = df_aux.loc[:,['ano_campeonato','gols_1_tempo_man','gols_1_tempo_vis','gols_man','gols_vis',]]"
      ],
      "metadata": {
        "id": "9YqM_EURoy4C"
      },
      "execution_count": 41,
      "outputs": []
    },
    {
      "cell_type": "code",
      "source": [
        "#Função para gerar identificador para resultados no intervalo\n",
        "def intervalo (df):\n",
        "  if df['gols_1_tempo_man'] > df['gols_1_tempo_vis']:\n",
        "    df['intervalo'] = 'M'\n",
        "    return df['intervalo']\n",
        "  if df['gols_1_tempo_man'] < df['gols_1_tempo_vis']:\n",
        "    df['intervalo'] = 'V'\n",
        "    return df['intervalo']\n",
        "  else:\n",
        "    df['intervalo'] = 'E'\n",
        "    return df['intervalo']\n",
        "\n",
        "#Função para gerar identificador para resultados finais\n",
        "def final (df):\n",
        "  if df['gols_man'] > df['gols_vis']:\n",
        "    df['final'] = 'M'\n",
        "    return df['final']\n",
        "  if df['gols_man'] < df['gols_vis']:\n",
        "    df['final'] = 'V'\n",
        "    return df['final']\n",
        "  else:\n",
        "    df['final'] = 'E'\n",
        "    return df['final']\n"
      ],
      "metadata": {
        "id": "DhL6fTknvIMy"
      },
      "execution_count": 42,
      "outputs": []
    },
    {
      "cell_type": "code",
      "source": [
        "#Aplicando função\n",
        "resultado['intervalo'] = resultado.apply(intervalo, axis = 1)\n",
        "resultado['final'] = resultado.apply(final, axis = 1)"
      ],
      "metadata": {
        "id": "sys61Pi3vKMp"
      },
      "execution_count": 43,
      "outputs": []
    },
    {
      "cell_type": "code",
      "source": [
        "#Separando o DataFrame em dois e resetando o index\n",
        "resultado_igual = resultado[resultado['final']== resultado['intervalo']].reset_index().sort_index()\n",
        "resultado_diferente = resultado[resultado['final']!= resultado['intervalo']].reset_index().sort_index()\n",
        "resultado_igual= resultado_igual.drop(columns = 'index')\n",
        "resultado_diferente= resultado_diferente.drop(columns = 'index')"
      ],
      "metadata": {
        "id": "W153TZ4EpEuI"
      },
      "execution_count": 44,
      "outputs": []
    },
    {
      "cell_type": "code",
      "source": [
        "#Iniciando index do 1 ao invés do 0\n",
        "resultado_igual.index +=  1\n",
        "resultado_diferente.index += 1\n"
      ],
      "metadata": {
        "id": "Sfo8ozfFqBy3"
      },
      "execution_count": 45,
      "outputs": []
    },
    {
      "cell_type": "code",
      "source": [
        "#pegando o ultimo valor do index\n",
        "igual = resultado_igual.index.values[-1]\n",
        "diferente = resultado_diferente.index.values[-1]"
      ],
      "metadata": {
        "id": "GSkfPSZ5N00e"
      },
      "execution_count": 46,
      "outputs": []
    },
    {
      "cell_type": "code",
      "source": [
        "#Dados para o gráfico\n",
        "data = {'Resultado igual' : igual, 'Resultado diferente': diferente}\n",
        "#Gerando gráfico Waffle\n",
        "fig = plt.figure(\n",
        "    FigureClass=Waffle,\n",
        "    rows=5,\n",
        "    columns=10,\n",
        "    values=data,\n",
        "    title={\n",
        "        'label': 'Quantos placares mudaram entre o intervalo e o final?',\n",
        "        'loc': 'center',\n",
        "        'fontdict': {\n",
        "                    'fontname':\"Nunito\",\n",
        "                    'size':12,\n",
        "        }\n",
        "    },\n",
        "    legend={'loc': 'lower left', 'bbox_to_anchor': (0.15, -0.2),'ncol': len(data),'framealpha': 0},\n",
        "    vertical=True,\n",
        "    starting_location='NW',\n",
        "    icons = \"futbol\",\n",
        "    icon_style = \"regular\",\n",
        "    icon_legend=True,\n",
        "    colors = ['#008F4A','#DB1A00']\n",
        ")\n",
        "plt.show()"
      ],
      "metadata": {
        "colab": {
          "base_uri": "https://localhost:8080/",
          "height": 302
        },
        "id": "SoDJnfW_q90q",
        "outputId": "52bfa749-85ec-46bf-ef64-071ca6a05de3"
      },
      "execution_count": 47,
      "outputs": [
        {
          "output_type": "stream",
          "name": "stderr",
          "text": [
            "findfont: Font family ['Nunito'] not found. Falling back to DejaVu Sans.\n"
          ]
        },
        {
          "output_type": "display_data",
          "data": {
            "text/plain": [
              "<Waffle size 432x288 with 1 Axes>"
            ],
            "image/png": "[encoded data removed]"
          },
          "metadata": {
            "needs_background": "light"
          }
        }
      ]
    }
  ],
  "metadata": {
    "colab": {
      "collapsed_sections": [],
      "name": "Brasileirao.ipynb",
      "provenance": [],
      "mount_file_id": "1Gta8gN_pE9RxnN3VNSl_o7xKVKzZlG0X",
      "authorship_tag": "ABX9TyOCsFfwD9mGmr6FN3qz5RAx",
      "include_colab_link": true
    },
    "kernelspec": {
      "display_name": "Python 3",
      "name": "python3"
    },
    "language_info": {
      "name": "python"
    }
  },
  "nbformat": 4,
  "nbformat_minor": 0
}